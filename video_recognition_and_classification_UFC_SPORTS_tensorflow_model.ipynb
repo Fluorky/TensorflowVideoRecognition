{
 "cells": [
  {
   "cell_type": "code",
   "execution_count": 1,
   "metadata": {
    "execution": {
     "iopub.execute_input": "2023-01-07T02:24:55.453748Z",
     "iopub.status.busy": "2023-01-07T02:24:55.453543Z",
     "iopub.status.idle": "2023-01-07T02:24:57.249148Z",
     "shell.execute_reply": "2023-01-07T02:24:57.248343Z"
    },
    "id": "SjI3AaaO16bd"
   },
   "outputs": [],
   "source": [
    "#!pip install -U \"tensorflow>=2.10.0\""
   ]
  },
  {
   "cell_type": "code",
   "execution_count": 2,
   "metadata": {
    "execution": {
     "iopub.execute_input": "2023-01-07T02:24:57.253730Z",
     "iopub.status.busy": "2023-01-07T02:24:57.253013Z",
     "iopub.status.idle": "2023-01-07T02:25:08.190659Z",
     "shell.execute_reply": "2023-01-07T02:25:08.189665Z"
    },
    "id": "P5SBasQcbwQA"
   },
   "outputs": [
    {
     "name": "stdout",
     "output_type": "stream",
     "text": [
      "Requirement already satisfied: remotezip in c:\\users\\maciej\\anaconda3\\lib\\site-packages (0.12.1)\n",
      "Requirement already satisfied: tqdm in c:\\users\\maciej\\anaconda3\\lib\\site-packages (4.64.1)\n",
      "Requirement already satisfied: opencv-python in c:\\users\\maciej\\anaconda3\\lib\\site-packages (4.8.1.78)\n",
      "Requirement already satisfied: requests in c:\\users\\maciej\\anaconda3\\lib\\site-packages (from remotezip) (2.28.1)\n",
      "Requirement already satisfied: tabulate in c:\\users\\maciej\\anaconda3\\lib\\site-packages (from remotezip) (0.8.10)\n",
      "Requirement already satisfied: colorama in c:\\users\\maciej\\anaconda3\\lib\\site-packages (from tqdm) (0.4.5)\n",
      "Requirement already satisfied: numpy>=1.17.3 in c:\\users\\maciej\\anaconda3\\lib\\site-packages (from opencv-python) (1.20.0)\n",
      "Requirement already satisfied: idna<4,>=2.5 in c:\\users\\maciej\\anaconda3\\lib\\site-packages (from requests->remotezip) (3.3)\n",
      "Requirement already satisfied: charset-normalizer<3,>=2 in c:\\users\\maciej\\anaconda3\\lib\\site-packages (from requests->remotezip) (2.0.4)\n",
      "Requirement already satisfied: certifi>=2017.4.17 in c:\\users\\maciej\\anaconda3\\lib\\site-packages (from requests->remotezip) (2022.9.14)\n",
      "Requirement already satisfied: urllib3<1.27,>=1.21.1 in c:\\users\\maciej\\anaconda3\\lib\\site-packages (from requests->remotezip) (1.26.11)\n"
     ]
    }
   ],
   "source": [
    "!pip install remotezip tqdm opencv-python\n",
    "!pip install -q git+https://github.com/tensorflow/docs"
   ]
  },
  {
   "cell_type": "code",
   "execution_count": 3,
   "metadata": {
    "execution": {
     "iopub.execute_input": "2023-01-07T02:25:08.195313Z",
     "iopub.status.busy": "2023-01-07T02:25:08.194619Z",
     "iopub.status.idle": "2023-01-07T02:25:10.190090Z",
     "shell.execute_reply": "2023-01-07T02:25:10.189384Z"
    },
    "id": "9RYQIJ9C6BVH"
   },
   "outputs": [],
   "source": [
    "import tqdm\n",
    "import random\n",
    "import pathlib\n",
    "import itertools\n",
    "import collections\n",
    "\n",
    "import shutil\n",
    "import os\n",
    "import cv2\n",
    "import numpy as np\n",
    "import remotezip as rz\n",
    "\n",
    "import tensorflow as tf\n",
    "import matplotlib.pyplot as plt\n",
    "# Some modules to display an animation using imageio.\n",
    "import imageio\n",
    "from IPython import display\n",
    "from urllib import request\n",
    "from tensorflow_docs.vis import embed"
   ]
  },
  {
   "cell_type": "markdown",
   "metadata": {
    "id": "KbhwWLLM7FXo"
   },
   "source": [
    "# Download a subset of the UCF sports actions\n",
    "\n",
    "The UFC Sports Actions dataset https://www.crcv.ucf.edu/data/UCF_Sports_Action.php contains 10 categories of different sports actions in video, primarily used in action recognition. "
   ]
  },
  {
   "cell_type": "code",
   "execution_count": 4,
   "metadata": {
    "execution": {
     "iopub.execute_input": "2023-01-07T02:25:10.194081Z",
     "iopub.status.busy": "2023-01-07T02:25:10.193758Z",
     "iopub.status.idle": "2023-01-07T02:25:10.196802Z",
     "shell.execute_reply": "2023-01-07T02:25:10.196266Z"
    },
    "id": "gVIgj-jIA8U8"
   },
   "outputs": [],
   "source": [
    "URL = 'https://www.crcv.ucf.edu/data/ucf_sports_actions.zip'"
   ]
  },
  {
   "cell_type": "code",
   "execution_count": 5,
   "metadata": {
    "execution": {
     "iopub.execute_input": "2023-01-07T02:25:10.200011Z",
     "iopub.status.busy": "2023-01-07T02:25:10.199559Z",
     "iopub.status.idle": "2023-01-07T02:25:10.203504Z",
     "shell.execute_reply": "2023-01-07T02:25:10.202928Z"
    },
    "id": "lY-x7TaZlK6O"
   },
   "outputs": [],
   "source": [
    "def list_files_from_zip_url(zip_url, verify):\n",
    "  files = []\n",
    "  with rz.RemoteZip(zip_url,verify=False) as zip: # I use verify false to ignore problem with ssl certificate\n",
    "    for zip_info in zip.infolist():\n",
    "      if (zip_info.filename.endswith('.avi')):\n",
    "          files.append(zip_info.filename)\n",
    "  return files"
   ]
  },
  {
   "cell_type": "code",
   "execution_count": 6,
   "metadata": {
    "execution": {
     "iopub.execute_input": "2023-01-07T02:25:10.206364Z",
     "iopub.status.busy": "2023-01-07T02:25:10.205973Z",
     "iopub.status.idle": "2023-01-07T02:25:10.633813Z",
     "shell.execute_reply": "2023-01-07T02:25:10.633084Z"
    },
    "id": "lYErXAdUr-rk"
   },
   "outputs": [
    {
     "name": "stderr",
     "output_type": "stream",
     "text": [
      "C:\\Users\\MACIEJ\\anaconda3\\lib\\site-packages\\urllib3\\connectionpool.py:1045: InsecureRequestWarning: Unverified HTTPS request is being made to host 'www.crcv.ucf.edu'. Adding certificate verification is strongly advised. See: https://urllib3.readthedocs.io/en/1.26.x/advanced-usage.html#ssl-warnings\n",
      "  warnings.warn(\n",
      "C:\\Users\\MACIEJ\\anaconda3\\lib\\site-packages\\urllib3\\connectionpool.py:1045: InsecureRequestWarning: Unverified HTTPS request is being made to host 'www.crcv.ucf.edu'. Adding certificate verification is strongly advised. See: https://urllib3.readthedocs.io/en/1.26.x/advanced-usage.html#ssl-warnings\n",
      "  warnings.warn(\n"
     ]
    },
    {
     "data": {
      "text/plain": [
       "['ucf_sports_actions/ucf action/Diving-Side/001/2538-5_70133.avi',\n",
       " 'ucf_sports_actions/ucf action/Diving-Side/002/2538-11_70015.avi',\n",
       " 'ucf_sports_actions/ucf action/Diving-Side/003/2538-12_70246.avi',\n",
       " 'ucf_sports_actions/ucf action/Diving-Side/004/2538-16_70032.avi',\n",
       " 'ucf_sports_actions/ucf action/Diving-Side/005/4475-1_70541.avi',\n",
       " 'ucf_sports_actions/ucf action/Diving-Side/006/4475-2_70045.avi',\n",
       " 'ucf_sports_actions/ucf action/Diving-Side/007/4475-6_70099.avi',\n",
       " 'ucf_sports_actions/ucf action/Golf-Swing-Back/001/3283-8_700741.avi',\n",
       " 'ucf_sports_actions/ucf action/Golf-Swing-Back/002/3283-8_701201.avi',\n",
       " 'ucf_sports_actions/ucf action/Golf-Swing-Back/003/7608-12_70275.avi']"
      ]
     },
     "execution_count": 6,
     "metadata": {},
     "output_type": "execute_result"
    }
   ],
   "source": [
    "files = list_files_from_zip_url(URL, False) \n",
    "files = [f for f in files if f.endswith('.avi')]\n",
    "files[:10]"
   ]
  },
  {
   "cell_type": "code",
   "execution_count": 7,
   "metadata": {
    "scrolled": false
   },
   "outputs": [
    {
     "data": {
      "text/plain": [
       "['ucf_sports_actions/ucf action/Diving-Side/001/2538-5_70133.avi',\n",
       " 'ucf_sports_actions/ucf action/Diving-Side/002/2538-11_70015.avi',\n",
       " 'ucf_sports_actions/ucf action/Diving-Side/003/2538-12_70246.avi',\n",
       " 'ucf_sports_actions/ucf action/Diving-Side/004/2538-16_70032.avi',\n",
       " 'ucf_sports_actions/ucf action/Diving-Side/005/4475-1_70541.avi',\n",
       " 'ucf_sports_actions/ucf action/Diving-Side/006/4475-2_70045.avi',\n",
       " 'ucf_sports_actions/ucf action/Diving-Side/007/4475-6_70099.avi',\n",
       " 'ucf_sports_actions/ucf action/Golf-Swing-Back/001/3283-8_700741.avi',\n",
       " 'ucf_sports_actions/ucf action/Golf-Swing-Back/002/3283-8_701201.avi',\n",
       " 'ucf_sports_actions/ucf action/Golf-Swing-Back/003/7608-12_70275.avi',\n",
       " 'ucf_sports_actions/ucf action/Golf-Swing-Back/004/7616-7_70270.avi',\n",
       " 'ucf_sports_actions/ucf action/Golf-Swing-Back/005/RF1-13903_70070.avi',\n",
       " 'ucf_sports_actions/ucf action/Golf-Swing-Front/001/7603-4_70159.avi',\n",
       " 'ucf_sports_actions/ucf action/Golf-Swing-Front/002/7608-9_70(2)151.avi',\n",
       " 'ucf_sports_actions/ucf action/Golf-Swing-Front/003/RF1-13157_70040.avi',\n",
       " 'ucf_sports_actions/ucf action/Golf-Swing-Front/004/RF1-13206_70024.avi',\n",
       " 'ucf_sports_actions/ucf action/Golf-Swing-Front/005/RF1-13209_70050.avi',\n",
       " 'ucf_sports_actions/ucf action/Golf-Swing-Front/006/RF1-13428_70288.avi',\n",
       " 'ucf_sports_actions/ucf action/Golf-Swing-Front/007/RF1-13588_70046.avi',\n",
       " 'ucf_sports_actions/ucf action/Golf-Swing-Front/008/RF1-13678_70045.avi',\n",
       " 'ucf_sports_actions/ucf action/Golf-Swing-Side/001/RF1-13207_7015.avi',\n",
       " 'ucf_sports_actions/ucf action/Golf-Swing-Side/002/RF1-11456_70034.avi',\n",
       " 'ucf_sports_actions/ucf action/Golf-Swing-Side/003/7608-5_70308.avi',\n",
       " 'ucf_sports_actions/ucf action/Golf-Swing-Side/004/7608-5_70039.avi',\n",
       " 'ucf_sports_actions/ucf action/Golf-Swing-Side/005/7606-2_700810.avi',\n",
       " 'ucf_sports_actions/ucf action/Kicking-Front/001/778-62_l146.avi',\n",
       " 'ucf_sports_actions/ucf action/Kicking-Front/002/1084-44_l865.avi',\n",
       " 'ucf_sports_actions/ucf action/Kicking-Front/003/3833-27_70006.avi',\n",
       " 'ucf_sports_actions/ucf action/Kicking-Front/004/3937-9_70105.avi',\n",
       " 'ucf_sports_actions/ucf action/Kicking-Front/005/3949-12_70207.avi',\n",
       " 'ucf_sports_actions/ucf action/Kicking-Front/006/5117-8_70113.avi',\n",
       " 'ucf_sports_actions/ucf action/Kicking-Front/007/6063-21_70056.avi',\n",
       " 'ucf_sports_actions/ucf action/Kicking-Front/008/6351-6_70000.avi',\n",
       " 'ucf_sports_actions/ucf action/Kicking-Front/009/6729-10_70314.avi',\n",
       " 'ucf_sports_actions/ucf action/Kicking-Front/010/6731-2_70017.avi',\n",
       " 'ucf_sports_actions/ucf action/Kicking-Side/001/3833-15_70577.avi',\n",
       " 'ucf_sports_actions/ucf action/Kicking-Side/002/3833-40_70336.avi',\n",
       " 'ucf_sports_actions/ucf action/Kicking-Side/003/3833-41_70187.avi',\n",
       " 'ucf_sports_actions/ucf action/Kicking-Side/004/5117-8_70350.avi',\n",
       " 'ucf_sports_actions/ucf action/Kicking-Side/005/5863-29_70025.avi',\n",
       " 'ucf_sports_actions/ucf action/Kicking-Side/006/6063-20_70333.avi',\n",
       " 'ucf_sports_actions/ucf action/Kicking-Side/007/6351-1_70011.avi',\n",
       " 'ucf_sports_actions/ucf action/Kicking-Side/008/pstch3_clp16_0079_l050.avi',\n",
       " 'ucf_sports_actions/ucf action/Kicking-Side/009/pstch3_clp21_0088_l105.avi',\n",
       " 'ucf_sports_actions/ucf action/Kicking-Side/010/RF1-16941_70021.avi',\n",
       " 'ucf_sports_actions/ucf action/Lifting/001/3528-8_70514.avi',\n",
       " 'ucf_sports_actions/ucf action/Lifting/002/2502-2_70340.avi',\n",
       " 'ucf_sports_actions/ucf action/Lifting/003/2502-3_70368.avi',\n",
       " 'ucf_sports_actions/ucf action/Lifting/004/3528-6_70(2)268.avi',\n",
       " 'ucf_sports_actions/ucf action/Lifting/005/3528-6_70270.avi',\n",
       " 'ucf_sports_actions/ucf action/Lifting/006/3528-10_70424.avi',\n",
       " 'ucf_sports_actions/ucf action/Riding-Horse/001/4456-16_700040.avi',\n",
       " 'ucf_sports_actions/ucf action/Riding-Horse/002/4456-16_700165.avi',\n",
       " 'ucf_sports_actions/ucf action/Riding-Horse/003/4456-16_700273.avi',\n",
       " 'ucf_sports_actions/ucf action/Riding-Horse/004/4456-16_700406.avi',\n",
       " 'ucf_sports_actions/ucf action/Riding-Horse/005/4456-16_700516.avi',\n",
       " 'ucf_sports_actions/ucf action/Riding-Horse/006/6018-29_70000.avi',\n",
       " 'ucf_sports_actions/ucf action/Riding-Horse/007/6029-1_70001.avi',\n",
       " 'ucf_sports_actions/ucf action/Riding-Horse/008/6029-1_70143.avi',\n",
       " 'ucf_sports_actions/ucf action/Riding-Horse/009/6326-9_70170.avi',\n",
       " 'ucf_sports_actions/ucf action/Riding-Horse/010/RF1-12001_70063.avi',\n",
       " 'ucf_sports_actions/ucf action/Riding-Horse/011/1098-6_70000.avi',\n",
       " 'ucf_sports_actions/ucf action/Riding-Horse/012/7467-18_70103.avi',\n",
       " 'ucf_sports_actions/ucf action/Run-Side/001/2670-5_70111.avi',\n",
       " 'ucf_sports_actions/ucf action/Run-Side/002/5238-17_700000.avi',\n",
       " 'ucf_sports_actions/ucf action/Run-Side/003/5238-17_700641.avi',\n",
       " 'ucf_sports_actions/ucf action/Run-Side/004/5238-17_700950.avi',\n",
       " 'ucf_sports_actions/ucf action/Run-Side/005/5238-17_701581.avi',\n",
       " 'ucf_sports_actions/ucf action/Run-Side/006/5238-17_701141.avi',\n",
       " 'ucf_sports_actions/ucf action/Run-Side/007/6065-8_70110.avi',\n",
       " 'ucf_sports_actions/ucf action/Run-Side/008/7850-5_70090.avi',\n",
       " 'ucf_sports_actions/ucf action/Run-Side/009/3687-17_70245.avi',\n",
       " 'ucf_sports_actions/ucf action/Run-Side/010/5373-10_70026.avi',\n",
       " 'ucf_sports_actions/ucf action/Run-Side/011/5117-8_70157.avi',\n",
       " 'ucf_sports_actions/ucf action/Run-Side/012/7603-3_70195.avi',\n",
       " 'ucf_sports_actions/ucf action/Run-Side/013/5020-1_70062.avi',\n",
       " 'ucf_sports_actions/ucf action/SkateBoarding-Front/001/708-75070.avi',\n",
       " 'ucf_sports_actions/ucf action/SkateBoarding-Front/002/708-77009.avi',\n",
       " 'ucf_sports_actions/ucf action/SkateBoarding-Front/003/711-66044.avi',\n",
       " 'ucf_sports_actions/ucf action/SkateBoarding-Front/004/761-39000.avi',\n",
       " 'ucf_sports_actions/ucf action/SkateBoarding-Front/005/860-2001.avi',\n",
       " 'ucf_sports_actions/ucf action/SkateBoarding-Front/006/860-2729.avi',\n",
       " 'ucf_sports_actions/ucf action/SkateBoarding-Front/007/860-37150.avi',\n",
       " 'ucf_sports_actions/ucf action/SkateBoarding-Front/008/860-38064.avi',\n",
       " 'ucf_sports_actions/ucf action/SkateBoarding-Front/009/947-58108.avi',\n",
       " 'ucf_sports_actions/ucf action/SkateBoarding-Front/010/947-70005.avi',\n",
       " 'ucf_sports_actions/ucf action/SkateBoarding-Front/011/947-70454.avi',\n",
       " 'ucf_sports_actions/ucf action/SkateBoarding-Front/012/1058-22003.avi',\n",
       " 'ucf_sports_actions/ucf action/Swing-Bench/001/669-60084.avi',\n",
       " 'ucf_sports_actions/ucf action/Swing-Bench/002/669-60176.avi',\n",
       " 'ucf_sports_actions/ucf action/Swing-Bench/003/669-60220.avi',\n",
       " 'ucf_sports_actions/ucf action/Swing-Bench/004/669-67070.avi',\n",
       " 'ucf_sports_actions/ucf action/Swing-Bench/005/669-67178.avi',\n",
       " 'ucf_sports_actions/ucf action/Swing-Bench/006/2527-5_70020.avi',\n",
       " 'ucf_sports_actions/ucf action/Swing-Bench/007/2527-5_70114.avi',\n",
       " 'ucf_sports_actions/ucf action/Swing-Bench/008/2527-9_70018.avi',\n",
       " 'ucf_sports_actions/ucf action/Swing-Bench/009/2527-9_70087.avi',\n",
       " 'ucf_sports_actions/ucf action/Swing-Bench/010/2527-9_70267.avi',\n",
       " 'ucf_sports_actions/ucf action/Swing-Bench/011/2527-12_70137.avi',\n",
       " 'ucf_sports_actions/ucf action/Swing-Bench/012/2527-12_70186.avi',\n",
       " 'ucf_sports_actions/ucf action/Swing-Bench/013/2527-12_70297.avi',\n",
       " 'ucf_sports_actions/ucf action/Swing-Bench/014/2527-12_70360.avi',\n",
       " 'ucf_sports_actions/ucf action/Swing-Bench/015/2527-12_70411.avi',\n",
       " 'ucf_sports_actions/ucf action/Swing-Bench/016/2527-12_70461.avi',\n",
       " 'ucf_sports_actions/ucf action/Swing-Bench/017/2527-12_70526.avi',\n",
       " 'ucf_sports_actions/ucf action/Swing-Bench/018/2527-12_70574.avi',\n",
       " 'ucf_sports_actions/ucf action/Swing-Bench/019/2527-12_70641.avi',\n",
       " 'ucf_sports_actions/ucf action/Swing-Bench/020/4379-9_70018.avi',\n",
       " 'ucf_sports_actions/ucf action/Swing-SideAngle/001/vid1_0117.avi',\n",
       " 'ucf_sports_actions/ucf action/Swing-SideAngle/002/vid1_0461.avi',\n",
       " 'ucf_sports_actions/ucf action/Swing-SideAngle/003/vid6_025.avi',\n",
       " 'ucf_sports_actions/ucf action/Swing-SideAngle/004/vid6_214.avi',\n",
       " 'ucf_sports_actions/ucf action/Swing-SideAngle/005/vid8_0500.avi',\n",
       " 'ucf_sports_actions/ucf action/Swing-SideAngle/006/vid8_0685.avi',\n",
       " 'ucf_sports_actions/ucf action/Swing-SideAngle/007/4367-6_70167.avi',\n",
       " 'ucf_sports_actions/ucf action/Swing-SideAngle/008/vid1_0302.avi',\n",
       " 'ucf_sports_actions/ucf action/Swing-SideAngle/009/vid1_0377.avi',\n",
       " 'ucf_sports_actions/ucf action/Swing-SideAngle/010/vid1_0674.avi',\n",
       " 'ucf_sports_actions/ucf action/Swing-SideAngle/011/vid1_0855.avi',\n",
       " 'ucf_sports_actions/ucf action/Swing-SideAngle/012/vid5_000.avi',\n",
       " 'ucf_sports_actions/ucf action/Swing-SideAngle/013/vid8_0027.avi',\n",
       " 'ucf_sports_actions/ucf action/Walk-Front/001/3206-12_70000.avi',\n",
       " 'ucf_sports_actions/ucf action/Walk-Front/002/5561-7_70102.avi',\n",
       " 'ucf_sports_actions/ucf action/Walk-Front/003/RF1-10578_70285.avi',\n",
       " 'ucf_sports_actions/ucf action/Walk-Front/004/RF1-10799_70080.avi',\n",
       " 'ucf_sports_actions/ucf action/Walk-Front/005/RF1-11529_70033.avi',\n",
       " 'ucf_sports_actions/ucf action/Walk-Front/006/RF1-13902_70016.avi',\n",
       " 'ucf_sports_actions/ucf action/Walk-Front/007/RF1-14377_70025.avi',\n",
       " 'ucf_sports_actions/ucf action/Walk-Front/008/RF1-15295_70060.avi',\n",
       " 'ucf_sports_actions/ucf action/Walk-Front/009/RF1-15341_70050.avi',\n",
       " 'ucf_sports_actions/ucf action/Walk-Front/010/RF1-18075_70140.avi',\n",
       " 'ucf_sports_actions/ucf action/Walk-Front/011/RF1-18085_70010.avi',\n",
       " 'ucf_sports_actions/ucf action/Walk-Front/012/RF1-18156_70301.avi',\n",
       " 'ucf_sports_actions/ucf action/Walk-Front/013/RF1-18524_70031.avi',\n",
       " 'ucf_sports_actions/ucf action/Walk-Front/014/RF1-18526_70364.avi',\n",
       " 'ucf_sports_actions/ucf action/Walk-Front/015/RF1-18566_700411.avi',\n",
       " 'ucf_sports_actions/ucf action/Walk-Front/016/RF1-18566_700560.avi',\n",
       " 'ucf_sports_actions/ucf action/Walk-Front/017/RF1-18598_70075.avi',\n",
       " 'ucf_sports_actions/ucf action/Walk-Front/018/RF1-18598_70530.avi',\n",
       " 'ucf_sports_actions/ucf action/Walk-Front/019/RF1-18602_70140.avi',\n",
       " 'ucf_sports_actions/ucf action/Walk-Front/020/RF1-13204_70095.avi',\n",
       " 'ucf_sports_actions/ucf action/Walk-Front/021/RF1-13205_70100.avi',\n",
       " 'ucf_sports_actions/ucf action/Walk-Front/022/7608-3_70626.avi']"
      ]
     },
     "execution_count": 7,
     "metadata": {},
     "output_type": "execute_result"
    }
   ],
   "source": [
    "files"
   ]
  },
  {
   "cell_type": "code",
   "execution_count": 8,
   "metadata": {
    "execution": {
     "iopub.execute_input": "2023-01-07T02:25:10.637389Z",
     "iopub.status.busy": "2023-01-07T02:25:10.636883Z",
     "iopub.status.idle": "2023-01-07T02:25:10.640286Z",
     "shell.execute_reply": "2023-01-07T02:25:10.639685Z"
    },
    "id": "yyyivOX0sO19"
   },
   "outputs": [],
   "source": [
    "def get_class(fname):\n",
    "  return fname.split('/')[2].replace('-Front','').replace('-Side','').replace('-Back','')"
   ]
  },
  {
   "cell_type": "code",
   "execution_count": 9,
   "metadata": {
    "execution": {
     "iopub.execute_input": "2023-01-07T02:25:10.643425Z",
     "iopub.status.busy": "2023-01-07T02:25:10.642934Z",
     "iopub.status.idle": "2023-01-07T02:25:10.646473Z",
     "shell.execute_reply": "2023-01-07T02:25:10.645939Z"
    },
    "id": "1qnH0xKzlyw_"
   },
   "outputs": [],
   "source": [
    "def get_files_per_class(files):\n",
    "  files_for_class = collections.defaultdict(list)\n",
    "  for fname in files:\n",
    "    #print(fname)\n",
    "    class_name = get_class(fname)\n",
    "    #print(class_name)\n",
    "    files_for_class[class_name].append(fname)\n",
    "  return files_for_class"
   ]
  },
  {
   "cell_type": "code",
   "execution_count": 10,
   "metadata": {
    "execution": {
     "iopub.execute_input": "2023-01-07T02:25:10.649640Z",
     "iopub.status.busy": "2023-01-07T02:25:10.649146Z",
     "iopub.status.idle": "2023-01-07T02:25:10.652023Z",
     "shell.execute_reply": "2023-01-07T02:25:10.651494Z"
    },
    "id": "qPdURg74uUTk"
   },
   "outputs": [],
   "source": [
    "NUM_CLASSES = 10\n",
    "FILES_PER_CLASS = 50"
   ]
  },
  {
   "cell_type": "code",
   "execution_count": 11,
   "metadata": {
    "execution": {
     "iopub.execute_input": "2023-01-07T02:25:10.654804Z",
     "iopub.status.busy": "2023-01-07T02:25:10.654592Z",
     "iopub.status.idle": "2023-01-07T02:25:10.661479Z",
     "shell.execute_reply": "2023-01-07T02:25:10.660928Z"
    },
    "id": "GUs0xtXsr9i3"
   },
   "outputs": [],
   "source": [
    "files_for_class = get_files_per_class(files)\n",
    "classes = list(files_for_class.keys())"
   ]
  },
  {
   "cell_type": "code",
   "execution_count": 12,
   "metadata": {
    "execution": {
     "iopub.execute_input": "2023-01-07T02:25:10.664687Z",
     "iopub.status.busy": "2023-01-07T02:25:10.664250Z",
     "iopub.status.idle": "2023-01-07T02:25:10.667596Z",
     "shell.execute_reply": "2023-01-07T02:25:10.667073Z"
    },
    "id": "-YqFARvqwon9"
   },
   "outputs": [
    {
     "name": "stdout",
     "output_type": "stream",
     "text": [
      "Num classes: 10\n",
      "Num videos for class[ 0 ] Diving : 7\n",
      "Num videos for class[ 1 ] Golf-Swing : 18\n",
      "Num videos for class[ 2 ] Kicking : 20\n",
      "Num videos for class[ 3 ] Lifting : 6\n",
      "Num videos for class[ 4 ] Riding-Horse : 12\n",
      "Num videos for class[ 5 ] Run : 13\n",
      "Num videos for class[ 6 ] SkateBoarding : 12\n",
      "Num videos for class[ 7 ] Swing-Bench : 20\n",
      "Num videos for class[ 8 ] SwingAngle : 13\n",
      "Num videos for class[ 9 ] Walk : 22\n",
      "Num of videos 143\n"
     ]
    }
   ],
   "source": [
    "print('Num classes:', len(classes))\n",
    "videos=0\n",
    "for i in range (len(classes)):\n",
    "    print('Num videos for class[',i,']',classes[i],':', len(files_for_class[classes[i]]))\n",
    "    videos += len(files_for_class[classes[i]])\n",
    "    \n",
    "print(\"Num of videos\", videos)"
   ]
  },
  {
   "cell_type": "code",
   "execution_count": 13,
   "metadata": {
    "execution": {
     "iopub.execute_input": "2023-01-07T02:25:10.670763Z",
     "iopub.status.busy": "2023-01-07T02:25:10.670319Z",
     "iopub.status.idle": "2023-01-07T02:25:10.673854Z",
     "shell.execute_reply": "2023-01-07T02:25:10.673264Z"
    },
    "id": "O3jek4QimIj-"
   },
   "outputs": [],
   "source": [
    "def select_subset_of_classes(files_for_class, classes, files_per_class):\n",
    "\n",
    "  files_subset = dict()\n",
    "\n",
    "  for class_name in classes:\n",
    "    class_files = files_for_class[class_name]\n",
    "    files_subset[class_name] = class_files[:files_per_class]\n",
    "\n",
    "  return files_subset"
   ]
  },
  {
   "cell_type": "code",
   "execution_count": 14,
   "metadata": {
    "execution": {
     "iopub.execute_input": "2023-01-07T02:25:10.676951Z",
     "iopub.status.busy": "2023-01-07T02:25:10.676441Z",
     "iopub.status.idle": "2023-01-07T02:25:10.680557Z",
     "shell.execute_reply": "2023-01-07T02:25:10.680050Z"
    },
    "id": "5cjcz6Gpcb-W"
   },
   "outputs": [
    {
     "data": {
      "text/plain": [
       "['Diving',\n",
       " 'Golf-Swing',\n",
       " 'Kicking',\n",
       " 'Lifting',\n",
       " 'Riding-Horse',\n",
       " 'Run',\n",
       " 'SkateBoarding',\n",
       " 'Swing-Bench',\n",
       " 'SwingAngle',\n",
       " 'Walk']"
      ]
     },
     "execution_count": 14,
     "metadata": {},
     "output_type": "execute_result"
    }
   ],
   "source": [
    "files_subset = select_subset_of_classes(files_for_class, classes[:NUM_CLASSES], FILES_PER_CLASS)\n",
    "list(files_subset.keys())"
   ]
  },
  {
   "cell_type": "code",
   "execution_count": null,
   "metadata": {},
   "outputs": [],
   "source": []
  },
  {
   "cell_type": "code",
   "execution_count": 15,
   "metadata": {
    "execution": {
     "iopub.execute_input": "2023-01-07T02:25:10.683698Z",
     "iopub.status.busy": "2023-01-07T02:25:10.683129Z",
     "iopub.status.idle": "2023-01-07T02:25:10.687406Z",
     "shell.execute_reply": "2023-01-07T02:25:10.686909Z"
    },
    "id": "AH9sWS_6nRz3"
   },
   "outputs": [],
   "source": [
    "def download_from_zip(zip_url, to_dir, file_names):\n",
    "\n",
    "  with rz.RemoteZip(zip_url,verify=False) as zip:\n",
    "    for fn in tqdm.tqdm(file_names):\n",
    "      class_name = get_class(fn)\n",
    "      print(class_name)\n",
    "      print(to_dir)\n",
    "      print(\"FN\",fn)\n",
    "      zip.extract(fn, str(to_dir / class_name))\n",
    "      unzipped_file = to_dir / class_name / fn\n",
    "      #print(\"FN\",fn)\n",
    "      fn = pathlib.Path(fn).parts[-1]\n",
    "      print(\"FN\",fn)\n",
    "      output_file = to_dir / class_name / fn\n",
    "     # if (\".avi\" in str(output_file)): # To do add .avi in str\n",
    "          #unzipped_file.rename(output_file)\n",
    "      try:\n",
    "           unzipped_file.rename(output_file)\n",
    "      except:\n",
    "              print(\"Renaming didn't work because problem with file was occured. Moving on...\")\n",
    "      continue"
   ]
  },
  {
   "cell_type": "code",
   "execution_count": 16,
   "metadata": {
    "execution": {
     "iopub.execute_input": "2023-01-07T02:25:10.690416Z",
     "iopub.status.busy": "2023-01-07T02:25:10.689988Z",
     "iopub.status.idle": "2023-01-07T02:25:10.693591Z",
     "shell.execute_reply": "2023-01-07T02:25:10.693016Z"
    },
    "id": "6ARYc-WLqqNF"
   },
   "outputs": [],
   "source": [
    "def split_class_lists(files_for_class, count):\n",
    "\n",
    "  split_files = []\n",
    "  remainder = {}\n",
    "  for cls in files_for_class:\n",
    "    #print(\"cls\",cls)\n",
    "    test=len(files_for_class[cls])\n",
    "    #print(\"Len of files_for_class[cls]\",test)\n",
    "    #print(\"test\",test * count)\n",
    "    splt = int(round(test * count))\n",
    "\n",
    "    #split_files.extend(files_for_class[cls][:test])\n",
    "    #print(\"count\" , count, type(count))\n",
    "    #print(\"splt\" , splt, type(splt))\n",
    "    #splt = count\n",
    "    split_files.extend(files_for_class[cls][:splt])\n",
    "   \n",
    "    remainder[cls] = files_for_class[cls][splt:]\n",
    "  return split_files, remainder"
   ]
  },
  {
   "cell_type": "code",
   "execution_count": 17,
   "metadata": {
    "execution": {
     "iopub.execute_input": "2023-01-07T02:25:10.696763Z",
     "iopub.status.busy": "2023-01-07T02:25:10.696387Z",
     "iopub.status.idle": "2023-01-07T02:25:10.701668Z",
     "shell.execute_reply": "2023-01-07T02:25:10.701142Z"
    },
    "id": "IHH2Y1M06xoz"
   },
   "outputs": [],
   "source": [
    "def download_ucf_subset(zip_url, num_classes, splits, download_dir):\n",
    "\n",
    "  files = list_files_from_zip_url(zip_url,True)\n",
    "  for f in files:\n",
    "    path = os.path.normpath(f)\n",
    "    tokens = path.split(os.sep)\n",
    "    if len(tokens) <= 2:\n",
    "      files.remove(f) \n",
    "  \n",
    "  files_for_class = get_files_per_class(files)\n",
    "\n",
    "  classes = list(files_for_class.keys())[:num_classes]\n",
    "\n",
    "  for cls in classes:\n",
    "    random.shuffle(files_for_class[cls])\n",
    "    \n",
    "  files_for_class = {x: files_for_class[x] for x in classes}\n",
    "\n",
    "  dirs = {}\n",
    "  for split_name, split_count in splits.items():\n",
    "    #print(split_name, \":\")\n",
    "    split_dir = download_dir / split_name\n",
    "    #print(\"Split dir\", split_dir)\n",
    "    #print(\"Split name\",split_name)\n",
    "    split_files, files_for_class = split_class_lists(files_for_class, split_count)\n",
    "    #print(\"Split count\", split_count, \"split files\", split_files,len(split_files),\" files for class\", files_for_class, \"files for class size \",len(files_for_class)) \n",
    "    if os.path.exists(str(split_dir)) == 0:\n",
    "        download_from_zip(zip_url, split_dir, split_files)\n",
    "    else:\n",
    "        shutil.rmtree(download_dir)\n",
    "        download_from_zip(zip_url, split_dir, split_files)\n",
    "        \n",
    "        \n",
    "    dirs[split_name] = split_dir\n",
    "\n",
    "  return dirs"
   ]
  },
  {
   "cell_type": "code",
   "execution_count": 18,
   "metadata": {
    "execution": {
     "iopub.execute_input": "2023-01-07T02:25:10.704951Z",
     "iopub.status.busy": "2023-01-07T02:25:10.704509Z",
     "iopub.status.idle": "2023-01-07T02:25:53.077388Z",
     "shell.execute_reply": "2023-01-07T02:25:53.076683Z"
    },
    "id": "NuD-xU8Q66Vm"
   },
   "outputs": [
    {
     "name": "stderr",
     "output_type": "stream",
     "text": [
      "C:\\Users\\MACIEJ\\anaconda3\\lib\\site-packages\\urllib3\\connectionpool.py:1045: InsecureRequestWarning: Unverified HTTPS request is being made to host 'www.crcv.ucf.edu'. Adding certificate verification is strongly advised. See: https://urllib3.readthedocs.io/en/1.26.x/advanced-usage.html#ssl-warnings\n",
      "  warnings.warn(\n",
      "C:\\Users\\MACIEJ\\anaconda3\\lib\\site-packages\\urllib3\\connectionpool.py:1045: InsecureRequestWarning: Unverified HTTPS request is being made to host 'www.crcv.ucf.edu'. Adding certificate verification is strongly advised. See: https://urllib3.readthedocs.io/en/1.26.x/advanced-usage.html#ssl-warnings\n",
      "  warnings.warn(\n",
      "C:\\Users\\MACIEJ\\anaconda3\\lib\\site-packages\\urllib3\\connectionpool.py:1045: InsecureRequestWarning: Unverified HTTPS request is being made to host 'www.crcv.ucf.edu'. Adding certificate verification is strongly advised. See: https://urllib3.readthedocs.io/en/1.26.x/advanced-usage.html#ssl-warnings\n",
      "  warnings.warn(\n",
      "C:\\Users\\MACIEJ\\anaconda3\\lib\\site-packages\\urllib3\\connectionpool.py:1045: InsecureRequestWarning: Unverified HTTPS request is being made to host 'www.crcv.ucf.edu'. Adding certificate verification is strongly advised. See: https://urllib3.readthedocs.io/en/1.26.x/advanced-usage.html#ssl-warnings\n",
      "  warnings.warn(\n",
      "  0%|                                                                                           | 0/44 [00:00<?, ?it/s]"
     ]
    },
    {
     "name": "stdout",
     "output_type": "stream",
     "text": [
      "Diving\n",
      "ucf_sports_actions\\val\n",
      "FN ucf_sports_actions/ucf action/Diving-Side/007/4475-6_70099.avi\n"
     ]
    },
    {
     "name": "stderr",
     "output_type": "stream",
     "text": [
      "C:\\Users\\MACIEJ\\anaconda3\\lib\\site-packages\\urllib3\\connectionpool.py:1045: InsecureRequestWarning: Unverified HTTPS request is being made to host 'www.crcv.ucf.edu'. Adding certificate verification is strongly advised. See: https://urllib3.readthedocs.io/en/1.26.x/advanced-usage.html#ssl-warnings\n",
      "  warnings.warn(\n",
      "  2%|█▉                                                                                 | 1/44 [00:01<01:15,  1.76s/it]"
     ]
    },
    {
     "name": "stdout",
     "output_type": "stream",
     "text": [
      "FN 4475-6_70099.avi\n",
      "Diving\n",
      "ucf_sports_actions\\val\n",
      "FN ucf_sports_actions/ucf action/Diving-Side/004/2538-16_70032.avi\n"
     ]
    },
    {
     "name": "stderr",
     "output_type": "stream",
     "text": [
      "C:\\Users\\MACIEJ\\anaconda3\\lib\\site-packages\\urllib3\\connectionpool.py:1045: InsecureRequestWarning: Unverified HTTPS request is being made to host 'www.crcv.ucf.edu'. Adding certificate verification is strongly advised. See: https://urllib3.readthedocs.io/en/1.26.x/advanced-usage.html#ssl-warnings\n",
      "  warnings.warn(\n",
      "  5%|███▊                                                                               | 2/44 [00:02<00:50,  1.21s/it]"
     ]
    },
    {
     "name": "stdout",
     "output_type": "stream",
     "text": [
      "FN 2538-16_70032.avi\n",
      "Golf-Swing\n",
      "ucf_sports_actions\\val\n",
      "FN ucf_sports_actions/ucf action/Golf-Swing-Back/005/RF1-13903_70070.avi\n"
     ]
    },
    {
     "name": "stderr",
     "output_type": "stream",
     "text": [
      "C:\\Users\\MACIEJ\\anaconda3\\lib\\site-packages\\urllib3\\connectionpool.py:1045: InsecureRequestWarning: Unverified HTTPS request is being made to host 'www.crcv.ucf.edu'. Adding certificate verification is strongly advised. See: https://urllib3.readthedocs.io/en/1.26.x/advanced-usage.html#ssl-warnings\n",
      "  warnings.warn(\n",
      "  7%|█████▋                                                                             | 3/44 [00:04<01:03,  1.54s/it]"
     ]
    },
    {
     "name": "stdout",
     "output_type": "stream",
     "text": [
      "FN RF1-13903_70070.avi\n",
      "Golf-Swing\n",
      "ucf_sports_actions\\val\n",
      "FN ucf_sports_actions/ucf action/Golf-Swing-Side/005/7606-2_700810.avi\n"
     ]
    },
    {
     "name": "stderr",
     "output_type": "stream",
     "text": [
      "C:\\Users\\MACIEJ\\anaconda3\\lib\\site-packages\\urllib3\\connectionpool.py:1045: InsecureRequestWarning: Unverified HTTPS request is being made to host 'www.crcv.ucf.edu'. Adding certificate verification is strongly advised. See: https://urllib3.readthedocs.io/en/1.26.x/advanced-usage.html#ssl-warnings\n",
      "  warnings.warn(\n",
      "  9%|███████▌                                                                           | 4/44 [00:06<01:03,  1.58s/it]"
     ]
    },
    {
     "name": "stdout",
     "output_type": "stream",
     "text": [
      "FN 7606-2_700810.avi\n",
      "Golf-Swing\n",
      "ucf_sports_actions\\val\n",
      "FN ucf_sports_actions/ucf action/Golf-Swing-Front/002/7608-9_70(2)151.avi\n"
     ]
    },
    {
     "name": "stderr",
     "output_type": "stream",
     "text": [
      "C:\\Users\\MACIEJ\\anaconda3\\lib\\site-packages\\urllib3\\connectionpool.py:1045: InsecureRequestWarning: Unverified HTTPS request is being made to host 'www.crcv.ucf.edu'. Adding certificate verification is strongly advised. See: https://urllib3.readthedocs.io/en/1.26.x/advanced-usage.html#ssl-warnings\n",
      "  warnings.warn(\n",
      " 11%|█████████▍                                                                         | 5/44 [00:07<01:00,  1.55s/it]"
     ]
    },
    {
     "name": "stdout",
     "output_type": "stream",
     "text": [
      "FN 7608-9_70(2)151.avi\n",
      "Golf-Swing\n",
      "ucf_sports_actions\\val\n",
      "FN ucf_sports_actions/ucf action/Golf-Swing-Front/004/RF1-13206_70024.avi\n"
     ]
    },
    {
     "name": "stderr",
     "output_type": "stream",
     "text": [
      "C:\\Users\\MACIEJ\\anaconda3\\lib\\site-packages\\urllib3\\connectionpool.py:1045: InsecureRequestWarning: Unverified HTTPS request is being made to host 'www.crcv.ucf.edu'. Adding certificate verification is strongly advised. See: https://urllib3.readthedocs.io/en/1.26.x/advanced-usage.html#ssl-warnings\n",
      "  warnings.warn(\n",
      " 14%|███████████▎                                                                       | 6/44 [00:09<01:02,  1.63s/it]"
     ]
    },
    {
     "name": "stdout",
     "output_type": "stream",
     "text": [
      "FN RF1-13206_70024.avi\n",
      "Golf-Swing\n",
      "ucf_sports_actions\\val\n",
      "FN ucf_sports_actions/ucf action/Golf-Swing-Side/003/7608-5_70308.avi\n"
     ]
    },
    {
     "name": "stderr",
     "output_type": "stream",
     "text": [
      "C:\\Users\\MACIEJ\\anaconda3\\lib\\site-packages\\urllib3\\connectionpool.py:1045: InsecureRequestWarning: Unverified HTTPS request is being made to host 'www.crcv.ucf.edu'. Adding certificate verification is strongly advised. See: https://urllib3.readthedocs.io/en/1.26.x/advanced-usage.html#ssl-warnings\n",
      "  warnings.warn(\n",
      " 16%|█████████████▏                                                                     | 7/44 [00:11<01:09,  1.87s/it]"
     ]
    },
    {
     "name": "stdout",
     "output_type": "stream",
     "text": [
      "FN 7608-5_70308.avi\n",
      "Kicking\n",
      "ucf_sports_actions\\val\n",
      "FN ucf_sports_actions/ucf action/Kicking-Side/003/3833-41_70187.avi\n"
     ]
    },
    {
     "name": "stderr",
     "output_type": "stream",
     "text": [
      "C:\\Users\\MACIEJ\\anaconda3\\lib\\site-packages\\urllib3\\connectionpool.py:1045: InsecureRequestWarning: Unverified HTTPS request is being made to host 'www.crcv.ucf.edu'. Adding certificate verification is strongly advised. See: https://urllib3.readthedocs.io/en/1.26.x/advanced-usage.html#ssl-warnings\n",
      "  warnings.warn(\n",
      " 18%|███████████████                                                                    | 8/44 [00:13<00:59,  1.66s/it]"
     ]
    },
    {
     "name": "stdout",
     "output_type": "stream",
     "text": [
      "FN 3833-41_70187.avi\n",
      "Kicking\n",
      "ucf_sports_actions\\val\n",
      "FN ucf_sports_actions/ucf action/Kicking-Front/009/6729-10_70314.avi\n"
     ]
    },
    {
     "name": "stderr",
     "output_type": "stream",
     "text": [
      "C:\\Users\\MACIEJ\\anaconda3\\lib\\site-packages\\urllib3\\connectionpool.py:1045: InsecureRequestWarning: Unverified HTTPS request is being made to host 'www.crcv.ucf.edu'. Adding certificate verification is strongly advised. See: https://urllib3.readthedocs.io/en/1.26.x/advanced-usage.html#ssl-warnings\n",
      "  warnings.warn(\n",
      " 20%|████████████████▉                                                                  | 9/44 [00:14<00:52,  1.50s/it]"
     ]
    },
    {
     "name": "stdout",
     "output_type": "stream",
     "text": [
      "FN 6729-10_70314.avi\n",
      "Kicking\n",
      "ucf_sports_actions\\val\n",
      "FN ucf_sports_actions/ucf action/Kicking-Side/007/6351-1_70011.avi\n"
     ]
    },
    {
     "name": "stderr",
     "output_type": "stream",
     "text": [
      "C:\\Users\\MACIEJ\\anaconda3\\lib\\site-packages\\urllib3\\connectionpool.py:1045: InsecureRequestWarning: Unverified HTTPS request is being made to host 'www.crcv.ucf.edu'. Adding certificate verification is strongly advised. See: https://urllib3.readthedocs.io/en/1.26.x/advanced-usage.html#ssl-warnings\n",
      "  warnings.warn(\n",
      " 23%|██████████████████▋                                                               | 10/44 [00:15<00:48,  1.44s/it]"
     ]
    },
    {
     "name": "stdout",
     "output_type": "stream",
     "text": [
      "FN 6351-1_70011.avi\n",
      "Kicking\n",
      "ucf_sports_actions\\val\n",
      "FN ucf_sports_actions/ucf action/Kicking-Front/002/1084-44_l865.avi\n"
     ]
    },
    {
     "name": "stderr",
     "output_type": "stream",
     "text": [
      "C:\\Users\\MACIEJ\\anaconda3\\lib\\site-packages\\urllib3\\connectionpool.py:1045: InsecureRequestWarning: Unverified HTTPS request is being made to host 'www.crcv.ucf.edu'. Adding certificate verification is strongly advised. See: https://urllib3.readthedocs.io/en/1.26.x/advanced-usage.html#ssl-warnings\n",
      "  warnings.warn(\n",
      " 25%|████████████████████▌                                                             | 11/44 [00:16<00:46,  1.40s/it]"
     ]
    },
    {
     "name": "stdout",
     "output_type": "stream",
     "text": [
      "FN 1084-44_l865.avi\n",
      "Kicking\n",
      "ucf_sports_actions\\val\n",
      "FN ucf_sports_actions/ucf action/Kicking-Front/006/5117-8_70113.avi\n"
     ]
    },
    {
     "name": "stderr",
     "output_type": "stream",
     "text": [
      "C:\\Users\\MACIEJ\\anaconda3\\lib\\site-packages\\urllib3\\connectionpool.py:1045: InsecureRequestWarning: Unverified HTTPS request is being made to host 'www.crcv.ucf.edu'. Adding certificate verification is strongly advised. See: https://urllib3.readthedocs.io/en/1.26.x/advanced-usage.html#ssl-warnings\n",
      "  warnings.warn(\n",
      " 27%|██████████████████████▎                                                           | 12/44 [00:17<00:42,  1.34s/it]"
     ]
    },
    {
     "name": "stdout",
     "output_type": "stream",
     "text": [
      "FN 5117-8_70113.avi\n",
      "Kicking\n",
      "ucf_sports_actions\\val\n",
      "FN ucf_sports_actions/ucf action/Kicking-Side/004/5117-8_70350.avi\n"
     ]
    },
    {
     "name": "stderr",
     "output_type": "stream",
     "text": [
      "C:\\Users\\MACIEJ\\anaconda3\\lib\\site-packages\\urllib3\\connectionpool.py:1045: InsecureRequestWarning: Unverified HTTPS request is being made to host 'www.crcv.ucf.edu'. Adding certificate verification is strongly advised. See: https://urllib3.readthedocs.io/en/1.26.x/advanced-usage.html#ssl-warnings\n",
      "  warnings.warn(\n",
      " 30%|████████████████████████▏                                                         | 13/44 [00:19<00:39,  1.29s/it]"
     ]
    },
    {
     "name": "stdout",
     "output_type": "stream",
     "text": [
      "FN 5117-8_70350.avi\n",
      "Lifting\n",
      "ucf_sports_actions\\val\n",
      "FN ucf_sports_actions/ucf action/Lifting/002/2502-2_70340.avi\n"
     ]
    },
    {
     "name": "stderr",
     "output_type": "stream",
     "text": [
      "C:\\Users\\MACIEJ\\anaconda3\\lib\\site-packages\\urllib3\\connectionpool.py:1045: InsecureRequestWarning: Unverified HTTPS request is being made to host 'www.crcv.ucf.edu'. Adding certificate verification is strongly advised. See: https://urllib3.readthedocs.io/en/1.26.x/advanced-usage.html#ssl-warnings\n",
      "  warnings.warn(\n",
      " 32%|██████████████████████████                                                        | 14/44 [00:21<00:45,  1.53s/it]"
     ]
    },
    {
     "name": "stdout",
     "output_type": "stream",
     "text": [
      "FN 2502-2_70340.avi\n",
      "Lifting\n",
      "ucf_sports_actions\\val\n",
      "FN ucf_sports_actions/ucf action/Lifting/006/3528-10_70424.avi\n"
     ]
    },
    {
     "name": "stderr",
     "output_type": "stream",
     "text": [
      "C:\\Users\\MACIEJ\\anaconda3\\lib\\site-packages\\urllib3\\connectionpool.py:1045: InsecureRequestWarning: Unverified HTTPS request is being made to host 'www.crcv.ucf.edu'. Adding certificate verification is strongly advised. See: https://urllib3.readthedocs.io/en/1.26.x/advanced-usage.html#ssl-warnings\n",
      "  warnings.warn(\n",
      " 34%|███████████████████████████▉                                                      | 15/44 [00:23<00:46,  1.60s/it]"
     ]
    },
    {
     "name": "stdout",
     "output_type": "stream",
     "text": [
      "FN 3528-10_70424.avi\n",
      "Riding-Horse\n",
      "ucf_sports_actions\\val\n",
      "FN ucf_sports_actions/ucf action/Riding-Horse/006/6018-29_70000.avi\n"
     ]
    },
    {
     "name": "stderr",
     "output_type": "stream",
     "text": [
      "C:\\Users\\MACIEJ\\anaconda3\\lib\\site-packages\\urllib3\\connectionpool.py:1045: InsecureRequestWarning: Unverified HTTPS request is being made to host 'www.crcv.ucf.edu'. Adding certificate verification is strongly advised. See: https://urllib3.readthedocs.io/en/1.26.x/advanced-usage.html#ssl-warnings\n",
      "  warnings.warn(\n",
      " 36%|█████████████████████████████▊                                                    | 16/44 [00:24<00:44,  1.59s/it]"
     ]
    },
    {
     "name": "stdout",
     "output_type": "stream",
     "text": [
      "FN 6018-29_70000.avi\n",
      "Riding-Horse\n",
      "ucf_sports_actions\\val\n",
      "FN ucf_sports_actions/ucf action/Riding-Horse/011/1098-6_70000.avi\n"
     ]
    },
    {
     "name": "stderr",
     "output_type": "stream",
     "text": [
      "C:\\Users\\MACIEJ\\anaconda3\\lib\\site-packages\\urllib3\\connectionpool.py:1045: InsecureRequestWarning: Unverified HTTPS request is being made to host 'www.crcv.ucf.edu'. Adding certificate verification is strongly advised. See: https://urllib3.readthedocs.io/en/1.26.x/advanced-usage.html#ssl-warnings\n",
      "  warnings.warn(\n",
      " 39%|███████████████████████████████▋                                                  | 17/44 [00:26<00:42,  1.56s/it]"
     ]
    },
    {
     "name": "stdout",
     "output_type": "stream",
     "text": [
      "FN 1098-6_70000.avi\n",
      "Riding-Horse\n",
      "ucf_sports_actions\\val\n",
      "FN ucf_sports_actions/ucf action/Riding-Horse/004/4456-16_700406.avi\n"
     ]
    },
    {
     "name": "stderr",
     "output_type": "stream",
     "text": [
      "C:\\Users\\MACIEJ\\anaconda3\\lib\\site-packages\\urllib3\\connectionpool.py:1045: InsecureRequestWarning: Unverified HTTPS request is being made to host 'www.crcv.ucf.edu'. Adding certificate verification is strongly advised. See: https://urllib3.readthedocs.io/en/1.26.x/advanced-usage.html#ssl-warnings\n",
      "  warnings.warn(\n",
      " 41%|█████████████████████████████████▌                                                | 18/44 [00:27<00:39,  1.54s/it]"
     ]
    },
    {
     "name": "stdout",
     "output_type": "stream",
     "text": [
      "FN 4456-16_700406.avi\n",
      "Riding-Horse\n",
      "ucf_sports_actions\\val\n",
      "FN ucf_sports_actions/ucf action/Riding-Horse/002/4456-16_700165.avi\n"
     ]
    },
    {
     "name": "stderr",
     "output_type": "stream",
     "text": [
      "C:\\Users\\MACIEJ\\anaconda3\\lib\\site-packages\\urllib3\\connectionpool.py:1045: InsecureRequestWarning: Unverified HTTPS request is being made to host 'www.crcv.ucf.edu'. Adding certificate verification is strongly advised. See: https://urllib3.readthedocs.io/en/1.26.x/advanced-usage.html#ssl-warnings\n",
      "  warnings.warn(\n",
      " 43%|███████████████████████████████████▍                                              | 19/44 [00:29<00:38,  1.55s/it]"
     ]
    },
    {
     "name": "stdout",
     "output_type": "stream",
     "text": [
      "FN 4456-16_700165.avi\n",
      "Run\n",
      "ucf_sports_actions\\val\n",
      "FN ucf_sports_actions/ucf action/Run-Side/012/7603-3_70195.avi\n"
     ]
    },
    {
     "name": "stderr",
     "output_type": "stream",
     "text": [
      "C:\\Users\\MACIEJ\\anaconda3\\lib\\site-packages\\urllib3\\connectionpool.py:1045: InsecureRequestWarning: Unverified HTTPS request is being made to host 'www.crcv.ucf.edu'. Adding certificate verification is strongly advised. See: https://urllib3.readthedocs.io/en/1.26.x/advanced-usage.html#ssl-warnings\n",
      "  warnings.warn(\n",
      " 45%|█████████████████████████████████████▎                                            | 20/44 [00:31<00:40,  1.69s/it]"
     ]
    },
    {
     "name": "stdout",
     "output_type": "stream",
     "text": [
      "FN 7603-3_70195.avi\n",
      "Run\n",
      "ucf_sports_actions\\val\n",
      "FN ucf_sports_actions/ucf action/Run-Side/007/6065-8_70110.avi\n"
     ]
    },
    {
     "name": "stderr",
     "output_type": "stream",
     "text": [
      "C:\\Users\\MACIEJ\\anaconda3\\lib\\site-packages\\urllib3\\connectionpool.py:1045: InsecureRequestWarning: Unverified HTTPS request is being made to host 'www.crcv.ucf.edu'. Adding certificate verification is strongly advised. See: https://urllib3.readthedocs.io/en/1.26.x/advanced-usage.html#ssl-warnings\n",
      "  warnings.warn(\n",
      " 48%|███████████████████████████████████████▏                                          | 21/44 [00:32<00:38,  1.67s/it]"
     ]
    },
    {
     "name": "stdout",
     "output_type": "stream",
     "text": [
      "FN 6065-8_70110.avi\n",
      "Run\n",
      "ucf_sports_actions\\val\n",
      "FN ucf_sports_actions/ucf action/Run-Side/002/5238-17_700000.avi\n"
     ]
    },
    {
     "name": "stderr",
     "output_type": "stream",
     "text": [
      "C:\\Users\\MACIEJ\\anaconda3\\lib\\site-packages\\urllib3\\connectionpool.py:1045: InsecureRequestWarning: Unverified HTTPS request is being made to host 'www.crcv.ucf.edu'. Adding certificate verification is strongly advised. See: https://urllib3.readthedocs.io/en/1.26.x/advanced-usage.html#ssl-warnings\n",
      "  warnings.warn(\n",
      " 50%|█████████████████████████████████████████                                         | 22/44 [00:34<00:36,  1.64s/it]"
     ]
    },
    {
     "name": "stdout",
     "output_type": "stream",
     "text": [
      "FN 5238-17_700000.avi\n",
      "Run\n",
      "ucf_sports_actions\\val\n",
      "FN ucf_sports_actions/ucf action/Run-Side/001/2670-5_70111.avi\n"
     ]
    },
    {
     "name": "stderr",
     "output_type": "stream",
     "text": [
      "C:\\Users\\MACIEJ\\anaconda3\\lib\\site-packages\\urllib3\\connectionpool.py:1045: InsecureRequestWarning: Unverified HTTPS request is being made to host 'www.crcv.ucf.edu'. Adding certificate verification is strongly advised. See: https://urllib3.readthedocs.io/en/1.26.x/advanced-usage.html#ssl-warnings\n",
      "  warnings.warn(\n",
      " 52%|██████████████████████████████████████████▊                                       | 23/44 [00:35<00:33,  1.61s/it]"
     ]
    },
    {
     "name": "stdout",
     "output_type": "stream",
     "text": [
      "FN 2670-5_70111.avi\n",
      "SkateBoarding\n",
      "ucf_sports_actions\\val\n",
      "FN ucf_sports_actions/ucf action/SkateBoarding-Front/007/860-37150.avi\n"
     ]
    },
    {
     "name": "stderr",
     "output_type": "stream",
     "text": [
      "C:\\Users\\MACIEJ\\anaconda3\\lib\\site-packages\\urllib3\\connectionpool.py:1045: InsecureRequestWarning: Unverified HTTPS request is being made to host 'www.crcv.ucf.edu'. Adding certificate verification is strongly advised. See: https://urllib3.readthedocs.io/en/1.26.x/advanced-usage.html#ssl-warnings\n",
      "  warnings.warn(\n",
      " 55%|████████████████████████████████████████████▋                                     | 24/44 [00:37<00:32,  1.63s/it]"
     ]
    },
    {
     "name": "stdout",
     "output_type": "stream",
     "text": [
      "FN 860-37150.avi\n",
      "SkateBoarding\n",
      "ucf_sports_actions\\val\n",
      "FN ucf_sports_actions/ucf action/SkateBoarding-Front/005/860-2001.avi\n"
     ]
    },
    {
     "name": "stderr",
     "output_type": "stream",
     "text": [
      "C:\\Users\\MACIEJ\\anaconda3\\lib\\site-packages\\urllib3\\connectionpool.py:1045: InsecureRequestWarning: Unverified HTTPS request is being made to host 'www.crcv.ucf.edu'. Adding certificate verification is strongly advised. See: https://urllib3.readthedocs.io/en/1.26.x/advanced-usage.html#ssl-warnings\n",
      "  warnings.warn(\n",
      " 57%|██████████████████████████████████████████████▌                                   | 25/44 [00:39<00:31,  1.64s/it]"
     ]
    },
    {
     "name": "stdout",
     "output_type": "stream",
     "text": [
      "FN 860-2001.avi\n",
      "SkateBoarding\n",
      "ucf_sports_actions\\val\n",
      "FN ucf_sports_actions/ucf action/SkateBoarding-Front/010/947-70005.avi\n"
     ]
    },
    {
     "name": "stderr",
     "output_type": "stream",
     "text": [
      "C:\\Users\\MACIEJ\\anaconda3\\lib\\site-packages\\urllib3\\connectionpool.py:1045: InsecureRequestWarning: Unverified HTTPS request is being made to host 'www.crcv.ucf.edu'. Adding certificate verification is strongly advised. See: https://urllib3.readthedocs.io/en/1.26.x/advanced-usage.html#ssl-warnings\n",
      "  warnings.warn(\n",
      " 59%|████████████████████████████████████████████████▍                                 | 26/44 [00:40<00:29,  1.66s/it]"
     ]
    },
    {
     "name": "stdout",
     "output_type": "stream",
     "text": [
      "FN 947-70005.avi\n",
      "SkateBoarding\n",
      "ucf_sports_actions\\val\n",
      "FN ucf_sports_actions/ucf action/SkateBoarding-Front/006/860-2729.avi\n"
     ]
    },
    {
     "name": "stderr",
     "output_type": "stream",
     "text": [
      "C:\\Users\\MACIEJ\\anaconda3\\lib\\site-packages\\urllib3\\connectionpool.py:1045: InsecureRequestWarning: Unverified HTTPS request is being made to host 'www.crcv.ucf.edu'. Adding certificate verification is strongly advised. See: https://urllib3.readthedocs.io/en/1.26.x/advanced-usage.html#ssl-warnings\n",
      "  warnings.warn(\n",
      " 61%|██████████████████████████████████████████████████▎                               | 27/44 [00:42<00:28,  1.68s/it]"
     ]
    },
    {
     "name": "stdout",
     "output_type": "stream",
     "text": [
      "FN 860-2729.avi\n",
      "Swing-Bench\n",
      "ucf_sports_actions\\val\n",
      "FN ucf_sports_actions/ucf action/Swing-Bench/010/2527-9_70267.avi\n"
     ]
    },
    {
     "name": "stderr",
     "output_type": "stream",
     "text": [
      "C:\\Users\\MACIEJ\\anaconda3\\lib\\site-packages\\urllib3\\connectionpool.py:1045: InsecureRequestWarning: Unverified HTTPS request is being made to host 'www.crcv.ucf.edu'. Adding certificate verification is strongly advised. See: https://urllib3.readthedocs.io/en/1.26.x/advanced-usage.html#ssl-warnings\n",
      "  warnings.warn(\n",
      " 64%|████████████████████████████████████████████████████▏                             | 28/44 [00:44<00:27,  1.70s/it]"
     ]
    },
    {
     "name": "stdout",
     "output_type": "stream",
     "text": [
      "FN 2527-9_70267.avi\n",
      "Swing-Bench\n",
      "ucf_sports_actions\\val\n",
      "FN ucf_sports_actions/ucf action/Swing-Bench/008/2527-9_70018.avi\n"
     ]
    },
    {
     "name": "stderr",
     "output_type": "stream",
     "text": [
      "C:\\Users\\MACIEJ\\anaconda3\\lib\\site-packages\\urllib3\\connectionpool.py:1045: InsecureRequestWarning: Unverified HTTPS request is being made to host 'www.crcv.ucf.edu'. Adding certificate verification is strongly advised. See: https://urllib3.readthedocs.io/en/1.26.x/advanced-usage.html#ssl-warnings\n",
      "  warnings.warn(\n",
      " 66%|██████████████████████████████████████████████████████                            | 29/44 [00:45<00:24,  1.64s/it]"
     ]
    },
    {
     "name": "stdout",
     "output_type": "stream",
     "text": [
      "FN 2527-9_70018.avi\n",
      "Swing-Bench\n",
      "ucf_sports_actions\\val\n",
      "FN ucf_sports_actions/ucf action/Swing-Bench/015/2527-12_70411.avi\n"
     ]
    },
    {
     "name": "stderr",
     "output_type": "stream",
     "text": [
      "C:\\Users\\MACIEJ\\anaconda3\\lib\\site-packages\\urllib3\\connectionpool.py:1045: InsecureRequestWarning: Unverified HTTPS request is being made to host 'www.crcv.ucf.edu'. Adding certificate verification is strongly advised. See: https://urllib3.readthedocs.io/en/1.26.x/advanced-usage.html#ssl-warnings\n",
      "  warnings.warn(\n",
      " 68%|███████████████████████████████████████████████████████▉                          | 30/44 [00:47<00:24,  1.77s/it]"
     ]
    },
    {
     "name": "stdout",
     "output_type": "stream",
     "text": [
      "FN 2527-12_70411.avi\n",
      "Swing-Bench\n",
      "ucf_sports_actions\\val\n",
      "FN ucf_sports_actions/ucf action/Swing-Bench/011/2527-12_70137.avi\n"
     ]
    },
    {
     "name": "stderr",
     "output_type": "stream",
     "text": [
      "C:\\Users\\MACIEJ\\anaconda3\\lib\\site-packages\\urllib3\\connectionpool.py:1045: InsecureRequestWarning: Unverified HTTPS request is being made to host 'www.crcv.ucf.edu'. Adding certificate verification is strongly advised. See: https://urllib3.readthedocs.io/en/1.26.x/advanced-usage.html#ssl-warnings\n",
      "  warnings.warn(\n",
      " 70%|█████████████████████████████████████████████████████████▊                        | 31/44 [00:49<00:22,  1.73s/it]"
     ]
    },
    {
     "name": "stdout",
     "output_type": "stream",
     "text": [
      "FN 2527-12_70137.avi\n",
      "Swing-Bench\n",
      "ucf_sports_actions\\val\n",
      "FN ucf_sports_actions/ucf action/Swing-Bench/016/2527-12_70461.avi\n"
     ]
    },
    {
     "name": "stderr",
     "output_type": "stream",
     "text": [
      "C:\\Users\\MACIEJ\\anaconda3\\lib\\site-packages\\urllib3\\connectionpool.py:1045: InsecureRequestWarning: Unverified HTTPS request is being made to host 'www.crcv.ucf.edu'. Adding certificate verification is strongly advised. See: https://urllib3.readthedocs.io/en/1.26.x/advanced-usage.html#ssl-warnings\n",
      "  warnings.warn(\n",
      " 73%|███████████████████████████████████████████████████████████▋                      | 32/44 [00:51<00:20,  1.70s/it]"
     ]
    },
    {
     "name": "stdout",
     "output_type": "stream",
     "text": [
      "FN 2527-12_70461.avi\n",
      "Swing-Bench\n",
      "ucf_sports_actions\\val\n",
      "FN ucf_sports_actions/ucf action/Swing-Bench/001/669-60084.avi\n"
     ]
    },
    {
     "name": "stderr",
     "output_type": "stream",
     "text": [
      "C:\\Users\\MACIEJ\\anaconda3\\lib\\site-packages\\urllib3\\connectionpool.py:1045: InsecureRequestWarning: Unverified HTTPS request is being made to host 'www.crcv.ucf.edu'. Adding certificate verification is strongly advised. See: https://urllib3.readthedocs.io/en/1.26.x/advanced-usage.html#ssl-warnings\n",
      "  warnings.warn(\n",
      " 75%|█████████████████████████████████████████████████████████████▌                    | 33/44 [00:52<00:18,  1.72s/it]"
     ]
    },
    {
     "name": "stdout",
     "output_type": "stream",
     "text": [
      "FN 669-60084.avi\n",
      "SwingAngle\n",
      "ucf_sports_actions\\val\n",
      "FN ucf_sports_actions/ucf action/Swing-SideAngle/001/vid1_0117.avi\n"
     ]
    },
    {
     "name": "stderr",
     "output_type": "stream",
     "text": [
      "C:\\Users\\MACIEJ\\anaconda3\\lib\\site-packages\\urllib3\\connectionpool.py:1045: InsecureRequestWarning: Unverified HTTPS request is being made to host 'www.crcv.ucf.edu'. Adding certificate verification is strongly advised. See: https://urllib3.readthedocs.io/en/1.26.x/advanced-usage.html#ssl-warnings\n",
      "  warnings.warn(\n",
      " 77%|███████████████████████████████████████████████████████████████▎                  | 34/44 [00:54<00:17,  1.79s/it]"
     ]
    },
    {
     "name": "stdout",
     "output_type": "stream",
     "text": [
      "FN vid1_0117.avi\n",
      "SwingAngle\n",
      "ucf_sports_actions\\val\n",
      "FN ucf_sports_actions/ucf action/Swing-SideAngle/007/4367-6_70167.avi\n"
     ]
    },
    {
     "name": "stderr",
     "output_type": "stream",
     "text": [
      "C:\\Users\\MACIEJ\\anaconda3\\lib\\site-packages\\urllib3\\connectionpool.py:1045: InsecureRequestWarning: Unverified HTTPS request is being made to host 'www.crcv.ucf.edu'. Adding certificate verification is strongly advised. See: https://urllib3.readthedocs.io/en/1.26.x/advanced-usage.html#ssl-warnings\n",
      "  warnings.warn(\n",
      " 80%|█████████████████████████████████████████████████████████████████▏                | 35/44 [00:56<00:16,  1.78s/it]"
     ]
    },
    {
     "name": "stdout",
     "output_type": "stream",
     "text": [
      "FN 4367-6_70167.avi\n",
      "SwingAngle\n",
      "ucf_sports_actions\\val\n",
      "FN ucf_sports_actions/ucf action/Swing-SideAngle/006/vid8_0685.avi\n"
     ]
    },
    {
     "name": "stderr",
     "output_type": "stream",
     "text": [
      "C:\\Users\\MACIEJ\\anaconda3\\lib\\site-packages\\urllib3\\connectionpool.py:1045: InsecureRequestWarning: Unverified HTTPS request is being made to host 'www.crcv.ucf.edu'. Adding certificate verification is strongly advised. See: https://urllib3.readthedocs.io/en/1.26.x/advanced-usage.html#ssl-warnings\n",
      "  warnings.warn(\n",
      " 82%|███████████████████████████████████████████████████████████████████               | 36/44 [00:58<00:13,  1.74s/it]"
     ]
    },
    {
     "name": "stdout",
     "output_type": "stream",
     "text": [
      "FN vid8_0685.avi\n",
      "SwingAngle\n",
      "ucf_sports_actions\\val\n",
      "FN ucf_sports_actions/ucf action/Swing-SideAngle/002/vid1_0461.avi\n"
     ]
    },
    {
     "name": "stderr",
     "output_type": "stream",
     "text": [
      "C:\\Users\\MACIEJ\\anaconda3\\lib\\site-packages\\urllib3\\connectionpool.py:1045: InsecureRequestWarning: Unverified HTTPS request is being made to host 'www.crcv.ucf.edu'. Adding certificate verification is strongly advised. See: https://urllib3.readthedocs.io/en/1.26.x/advanced-usage.html#ssl-warnings\n",
      "  warnings.warn(\n",
      " 84%|████████████████████████████████████████████████████████████████████▉             | 37/44 [01:00<00:11,  1.71s/it]"
     ]
    },
    {
     "name": "stdout",
     "output_type": "stream",
     "text": [
      "FN vid1_0461.avi\n",
      "Walk\n",
      "ucf_sports_actions\\val\n",
      "FN ucf_sports_actions/ucf action/Walk-Front/012/RF1-18156_70301.avi\n"
     ]
    },
    {
     "name": "stderr",
     "output_type": "stream",
     "text": [
      "C:\\Users\\MACIEJ\\anaconda3\\lib\\site-packages\\urllib3\\connectionpool.py:1045: InsecureRequestWarning: Unverified HTTPS request is being made to host 'www.crcv.ucf.edu'. Adding certificate verification is strongly advised. See: https://urllib3.readthedocs.io/en/1.26.x/advanced-usage.html#ssl-warnings\n",
      "  warnings.warn(\n",
      " 86%|██████████████████████████████████████████████████████████████████████▊           | 38/44 [01:01<00:09,  1.66s/it]"
     ]
    },
    {
     "name": "stdout",
     "output_type": "stream",
     "text": [
      "FN RF1-18156_70301.avi\n",
      "Walk\n",
      "ucf_sports_actions\\val\n",
      "FN ucf_sports_actions/ucf action/Walk-Front/014/RF1-18526_70364.avi\n"
     ]
    },
    {
     "name": "stderr",
     "output_type": "stream",
     "text": [
      "C:\\Users\\MACIEJ\\anaconda3\\lib\\site-packages\\urllib3\\connectionpool.py:1045: InsecureRequestWarning: Unverified HTTPS request is being made to host 'www.crcv.ucf.edu'. Adding certificate verification is strongly advised. See: https://urllib3.readthedocs.io/en/1.26.x/advanced-usage.html#ssl-warnings\n",
      "  warnings.warn(\n",
      " 89%|████████████████████████████████████████████████████████████████████████▋         | 39/44 [01:03<00:08,  1.69s/it]"
     ]
    },
    {
     "name": "stdout",
     "output_type": "stream",
     "text": [
      "FN RF1-18526_70364.avi\n",
      "Walk\n",
      "ucf_sports_actions\\val\n",
      "FN ucf_sports_actions/ucf action/Walk-Front/008/RF1-15295_70060.avi\n"
     ]
    },
    {
     "name": "stderr",
     "output_type": "stream",
     "text": [
      "C:\\Users\\MACIEJ\\anaconda3\\lib\\site-packages\\urllib3\\connectionpool.py:1045: InsecureRequestWarning: Unverified HTTPS request is being made to host 'www.crcv.ucf.edu'. Adding certificate verification is strongly advised. See: https://urllib3.readthedocs.io/en/1.26.x/advanced-usage.html#ssl-warnings\n",
      "  warnings.warn(\n",
      " 91%|██████████████████████████████████████████████████████████████████████████▌       | 40/44 [01:04<00:06,  1.67s/it]"
     ]
    },
    {
     "name": "stdout",
     "output_type": "stream",
     "text": [
      "FN RF1-15295_70060.avi\n",
      "Walk\n",
      "ucf_sports_actions\\val\n",
      "FN ucf_sports_actions/ucf action/Walk-Front/020/RF1-13204_70095.avi\n"
     ]
    },
    {
     "name": "stderr",
     "output_type": "stream",
     "text": [
      "C:\\Users\\MACIEJ\\anaconda3\\lib\\site-packages\\urllib3\\connectionpool.py:1045: InsecureRequestWarning: Unverified HTTPS request is being made to host 'www.crcv.ucf.edu'. Adding certificate verification is strongly advised. See: https://urllib3.readthedocs.io/en/1.26.x/advanced-usage.html#ssl-warnings\n",
      "  warnings.warn(\n",
      " 93%|████████████████████████████████████████████████████████████████████████████▍     | 41/44 [01:06<00:05,  1.67s/it]"
     ]
    },
    {
     "name": "stdout",
     "output_type": "stream",
     "text": [
      "FN RF1-13204_70095.avi\n",
      "Walk\n",
      "ucf_sports_actions\\val\n",
      "FN ucf_sports_actions/ucf action/Walk-Front/006/RF1-13902_70016.avi\n"
     ]
    },
    {
     "name": "stderr",
     "output_type": "stream",
     "text": [
      "C:\\Users\\MACIEJ\\anaconda3\\lib\\site-packages\\urllib3\\connectionpool.py:1045: InsecureRequestWarning: Unverified HTTPS request is being made to host 'www.crcv.ucf.edu'. Adding certificate verification is strongly advised. See: https://urllib3.readthedocs.io/en/1.26.x/advanced-usage.html#ssl-warnings\n",
      "  warnings.warn(\n",
      " 95%|██████████████████████████████████████████████████████████████████████████████▎   | 42/44 [01:08<00:03,  1.65s/it]"
     ]
    },
    {
     "name": "stdout",
     "output_type": "stream",
     "text": [
      "FN RF1-13902_70016.avi\n",
      "Walk\n",
      "ucf_sports_actions\\val\n",
      "FN ucf_sports_actions/ucf action/Walk-Front/017/RF1-18598_70075.avi\n"
     ]
    },
    {
     "name": "stderr",
     "output_type": "stream",
     "text": [
      "C:\\Users\\MACIEJ\\anaconda3\\lib\\site-packages\\urllib3\\connectionpool.py:1045: InsecureRequestWarning: Unverified HTTPS request is being made to host 'www.crcv.ucf.edu'. Adding certificate verification is strongly advised. See: https://urllib3.readthedocs.io/en/1.26.x/advanced-usage.html#ssl-warnings\n",
      "  warnings.warn(\n",
      " 98%|████████████████████████████████████████████████████████████████████████████████▏ | 43/44 [01:09<00:01,  1.65s/it]"
     ]
    },
    {
     "name": "stdout",
     "output_type": "stream",
     "text": [
      "FN RF1-18598_70075.avi\n",
      "Walk\n",
      "ucf_sports_actions\\val\n",
      "FN ucf_sports_actions/ucf action/Walk-Front/013/RF1-18524_70031.avi\n"
     ]
    },
    {
     "name": "stderr",
     "output_type": "stream",
     "text": [
      "C:\\Users\\MACIEJ\\anaconda3\\lib\\site-packages\\urllib3\\connectionpool.py:1045: InsecureRequestWarning: Unverified HTTPS request is being made to host 'www.crcv.ucf.edu'. Adding certificate verification is strongly advised. See: https://urllib3.readthedocs.io/en/1.26.x/advanced-usage.html#ssl-warnings\n",
      "  warnings.warn(\n",
      "100%|██████████████████████████████████████████████████████████████████████████████████| 44/44 [01:11<00:00,  1.63s/it]"
     ]
    },
    {
     "name": "stdout",
     "output_type": "stream",
     "text": [
      "FN RF1-18524_70031.avi\n"
     ]
    },
    {
     "name": "stderr",
     "output_type": "stream",
     "text": [
      "\n",
      "C:\\Users\\MACIEJ\\anaconda3\\lib\\site-packages\\urllib3\\connectionpool.py:1045: InsecureRequestWarning: Unverified HTTPS request is being made to host 'www.crcv.ucf.edu'. Adding certificate verification is strongly advised. See: https://urllib3.readthedocs.io/en/1.26.x/advanced-usage.html#ssl-warnings\n",
      "  warnings.warn(\n",
      "C:\\Users\\MACIEJ\\anaconda3\\lib\\site-packages\\urllib3\\connectionpool.py:1045: InsecureRequestWarning: Unverified HTTPS request is being made to host 'www.crcv.ucf.edu'. Adding certificate verification is strongly advised. See: https://urllib3.readthedocs.io/en/1.26.x/advanced-usage.html#ssl-warnings\n",
      "  warnings.warn(\n",
      "  0%|                                                                                            | 0/9 [00:00<?, ?it/s]"
     ]
    },
    {
     "name": "stdout",
     "output_type": "stream",
     "text": [
      "Golf-Swing\n",
      "ucf_sports_actions\\test\n",
      "FN ucf_sports_actions/ucf action/Golf-Swing-Front/008/RF1-13678_70045.avi\n"
     ]
    },
    {
     "name": "stderr",
     "output_type": "stream",
     "text": [
      "C:\\Users\\MACIEJ\\anaconda3\\lib\\site-packages\\urllib3\\connectionpool.py:1045: InsecureRequestWarning: Unverified HTTPS request is being made to host 'www.crcv.ucf.edu'. Adding certificate verification is strongly advised. See: https://urllib3.readthedocs.io/en/1.26.x/advanced-usage.html#ssl-warnings\n",
      "  warnings.warn(\n",
      " 11%|█████████▎                                                                          | 1/9 [00:01<00:11,  1.50s/it]"
     ]
    },
    {
     "name": "stdout",
     "output_type": "stream",
     "text": [
      "FN RF1-13678_70045.avi\n",
      "Kicking\n",
      "ucf_sports_actions\\test\n",
      "FN ucf_sports_actions/ucf action/Kicking-Side/002/3833-40_70336.avi\n"
     ]
    },
    {
     "name": "stderr",
     "output_type": "stream",
     "text": [
      "C:\\Users\\MACIEJ\\anaconda3\\lib\\site-packages\\urllib3\\connectionpool.py:1045: InsecureRequestWarning: Unverified HTTPS request is being made to host 'www.crcv.ucf.edu'. Adding certificate verification is strongly advised. See: https://urllib3.readthedocs.io/en/1.26.x/advanced-usage.html#ssl-warnings\n",
      "  warnings.warn(\n",
      " 22%|██████████████████▋                                                                 | 2/9 [00:02<00:09,  1.32s/it]"
     ]
    },
    {
     "name": "stdout",
     "output_type": "stream",
     "text": [
      "FN 3833-40_70336.avi\n",
      "Riding-Horse\n",
      "ucf_sports_actions\\test\n",
      "FN ucf_sports_actions/ucf action/Riding-Horse/003/4456-16_700273.avi\n"
     ]
    },
    {
     "name": "stderr",
     "output_type": "stream",
     "text": [
      "C:\\Users\\MACIEJ\\anaconda3\\lib\\site-packages\\urllib3\\connectionpool.py:1045: InsecureRequestWarning: Unverified HTTPS request is being made to host 'www.crcv.ucf.edu'. Adding certificate verification is strongly advised. See: https://urllib3.readthedocs.io/en/1.26.x/advanced-usage.html#ssl-warnings\n",
      "  warnings.warn(\n",
      " 33%|████████████████████████████                                                        | 3/9 [00:04<00:08,  1.40s/it]"
     ]
    },
    {
     "name": "stdout",
     "output_type": "stream",
     "text": [
      "FN 4456-16_700273.avi\n",
      "Run\n",
      "ucf_sports_actions\\test\n",
      "FN ucf_sports_actions/ucf action/Run-Side/009/3687-17_70245.avi\n"
     ]
    },
    {
     "name": "stderr",
     "output_type": "stream",
     "text": [
      "C:\\Users\\MACIEJ\\anaconda3\\lib\\site-packages\\urllib3\\connectionpool.py:1045: InsecureRequestWarning: Unverified HTTPS request is being made to host 'www.crcv.ucf.edu'. Adding certificate verification is strongly advised. See: https://urllib3.readthedocs.io/en/1.26.x/advanced-usage.html#ssl-warnings\n",
      "  warnings.warn(\n",
      " 44%|█████████████████████████████████████▎                                              | 4/9 [00:06<00:08,  1.67s/it]"
     ]
    },
    {
     "name": "stdout",
     "output_type": "stream",
     "text": [
      "FN 3687-17_70245.avi\n",
      "SkateBoarding\n",
      "ucf_sports_actions\\test\n",
      "FN ucf_sports_actions/ucf action/SkateBoarding-Front/002/708-77009.avi\n"
     ]
    },
    {
     "name": "stderr",
     "output_type": "stream",
     "text": [
      "C:\\Users\\MACIEJ\\anaconda3\\lib\\site-packages\\urllib3\\connectionpool.py:1045: InsecureRequestWarning: Unverified HTTPS request is being made to host 'www.crcv.ucf.edu'. Adding certificate verification is strongly advised. See: https://urllib3.readthedocs.io/en/1.26.x/advanced-usage.html#ssl-warnings\n",
      "  warnings.warn(\n",
      " 56%|██████████████████████████████████████████████▋                                     | 5/9 [00:07<00:06,  1.69s/it]"
     ]
    },
    {
     "name": "stdout",
     "output_type": "stream",
     "text": [
      "FN 708-77009.avi\n",
      "Swing-Bench\n",
      "ucf_sports_actions\\test\n",
      "FN ucf_sports_actions/ucf action/Swing-Bench/013/2527-12_70297.avi\n"
     ]
    },
    {
     "name": "stderr",
     "output_type": "stream",
     "text": [
      "C:\\Users\\MACIEJ\\anaconda3\\lib\\site-packages\\urllib3\\connectionpool.py:1045: InsecureRequestWarning: Unverified HTTPS request is being made to host 'www.crcv.ucf.edu'. Adding certificate verification is strongly advised. See: https://urllib3.readthedocs.io/en/1.26.x/advanced-usage.html#ssl-warnings\n",
      "  warnings.warn(\n",
      " 67%|████████████████████████████████████████████████████████                            | 6/9 [00:09<00:04,  1.61s/it]"
     ]
    },
    {
     "name": "stdout",
     "output_type": "stream",
     "text": [
      "FN 2527-12_70297.avi\n",
      "SwingAngle\n",
      "ucf_sports_actions\\test\n",
      "FN ucf_sports_actions/ucf action/Swing-SideAngle/013/vid8_0027.avi\n"
     ]
    },
    {
     "name": "stderr",
     "output_type": "stream",
     "text": [
      "C:\\Users\\MACIEJ\\anaconda3\\lib\\site-packages\\urllib3\\connectionpool.py:1045: InsecureRequestWarning: Unverified HTTPS request is being made to host 'www.crcv.ucf.edu'. Adding certificate verification is strongly advised. See: https://urllib3.readthedocs.io/en/1.26.x/advanced-usage.html#ssl-warnings\n",
      "  warnings.warn(\n",
      " 78%|█████████████████████████████████████████████████████████████████▎                  | 7/9 [00:10<00:02,  1.46s/it]"
     ]
    },
    {
     "name": "stdout",
     "output_type": "stream",
     "text": [
      "FN vid8_0027.avi\n",
      "Walk\n",
      "ucf_sports_actions\\test\n",
      "FN ucf_sports_actions/ucf action/Walk-Front/021/RF1-13205_70100.avi\n"
     ]
    },
    {
     "name": "stderr",
     "output_type": "stream",
     "text": [
      "C:\\Users\\MACIEJ\\anaconda3\\lib\\site-packages\\urllib3\\connectionpool.py:1045: InsecureRequestWarning: Unverified HTTPS request is being made to host 'www.crcv.ucf.edu'. Adding certificate verification is strongly advised. See: https://urllib3.readthedocs.io/en/1.26.x/advanced-usage.html#ssl-warnings\n",
      "  warnings.warn(\n",
      " 89%|██████████████████████████████████████████████████████████████████████████▋         | 8/9 [00:12<00:01,  1.52s/it]"
     ]
    },
    {
     "name": "stdout",
     "output_type": "stream",
     "text": [
      "FN RF1-13205_70100.avi\n",
      "Walk\n",
      "ucf_sports_actions\\test\n",
      "FN ucf_sports_actions/ucf action/Walk-Front/018/RF1-18598_70530.avi\n"
     ]
    },
    {
     "name": "stderr",
     "output_type": "stream",
     "text": [
      "C:\\Users\\MACIEJ\\anaconda3\\lib\\site-packages\\urllib3\\connectionpool.py:1045: InsecureRequestWarning: Unverified HTTPS request is being made to host 'www.crcv.ucf.edu'. Adding certificate verification is strongly advised. See: https://urllib3.readthedocs.io/en/1.26.x/advanced-usage.html#ssl-warnings\n",
      "  warnings.warn(\n",
      "100%|████████████████████████████████████████████████████████████████████████████████████| 9/9 [00:14<00:00,  1.58s/it]"
     ]
    },
    {
     "name": "stdout",
     "output_type": "stream",
     "text": [
      "FN RF1-18598_70530.avi\n"
     ]
    },
    {
     "name": "stderr",
     "output_type": "stream",
     "text": [
      "\n",
      "C:\\Users\\MACIEJ\\anaconda3\\lib\\site-packages\\urllib3\\connectionpool.py:1045: InsecureRequestWarning: Unverified HTTPS request is being made to host 'www.crcv.ucf.edu'. Adding certificate verification is strongly advised. See: https://urllib3.readthedocs.io/en/1.26.x/advanced-usage.html#ssl-warnings\n",
      "  warnings.warn(\n",
      "C:\\Users\\MACIEJ\\anaconda3\\lib\\site-packages\\urllib3\\connectionpool.py:1045: InsecureRequestWarning: Unverified HTTPS request is being made to host 'www.crcv.ucf.edu'. Adding certificate verification is strongly advised. See: https://urllib3.readthedocs.io/en/1.26.x/advanced-usage.html#ssl-warnings\n",
      "  warnings.warn(\n",
      "  0%|                                                                                           | 0/90 [00:00<?, ?it/s]"
     ]
    },
    {
     "name": "stdout",
     "output_type": "stream",
     "text": [
      "Diving\n",
      "ucf_sports_actions\\train\n",
      "FN ucf_sports_actions/ucf action/Diving-Side/002/2538-11_70015.avi\n"
     ]
    },
    {
     "name": "stderr",
     "output_type": "stream",
     "text": [
      "C:\\Users\\MACIEJ\\anaconda3\\lib\\site-packages\\urllib3\\connectionpool.py:1045: InsecureRequestWarning: Unverified HTTPS request is being made to host 'www.crcv.ucf.edu'. Adding certificate verification is strongly advised. See: https://urllib3.readthedocs.io/en/1.26.x/advanced-usage.html#ssl-warnings\n",
      "  warnings.warn(\n",
      "  1%|▉                                                                                  | 1/90 [00:00<01:17,  1.14it/s]"
     ]
    },
    {
     "name": "stdout",
     "output_type": "stream",
     "text": [
      "FN 2538-11_70015.avi\n",
      "Diving\n",
      "ucf_sports_actions\\train\n",
      "FN ucf_sports_actions/ucf action/Diving-Side/001/2538-5_70133.avi\n"
     ]
    },
    {
     "name": "stderr",
     "output_type": "stream",
     "text": [
      "C:\\Users\\MACIEJ\\anaconda3\\lib\\site-packages\\urllib3\\connectionpool.py:1045: InsecureRequestWarning: Unverified HTTPS request is being made to host 'www.crcv.ucf.edu'. Adding certificate verification is strongly advised. See: https://urllib3.readthedocs.io/en/1.26.x/advanced-usage.html#ssl-warnings\n",
      "  warnings.warn(\n",
      "  2%|█▊                                                                                 | 2/90 [00:02<01:59,  1.35s/it]"
     ]
    },
    {
     "name": "stdout",
     "output_type": "stream",
     "text": [
      "FN 2538-5_70133.avi\n",
      "Diving\n",
      "ucf_sports_actions\\train\n",
      "FN ucf_sports_actions/ucf action/Diving-Side/006/4475-2_70045.avi\n"
     ]
    },
    {
     "name": "stderr",
     "output_type": "stream",
     "text": [
      "C:\\Users\\MACIEJ\\anaconda3\\lib\\site-packages\\urllib3\\connectionpool.py:1045: InsecureRequestWarning: Unverified HTTPS request is being made to host 'www.crcv.ucf.edu'. Adding certificate verification is strongly advised. See: https://urllib3.readthedocs.io/en/1.26.x/advanced-usage.html#ssl-warnings\n",
      "  warnings.warn(\n",
      "  3%|██▊                                                                                | 3/90 [00:03<01:51,  1.28s/it]"
     ]
    },
    {
     "name": "stdout",
     "output_type": "stream",
     "text": [
      "FN 4475-2_70045.avi\n",
      "Diving\n",
      "ucf_sports_actions\\train\n",
      "FN ucf_sports_actions/ucf action/Diving-Side/003/2538-12_70246.avi\n"
     ]
    },
    {
     "name": "stderr",
     "output_type": "stream",
     "text": [
      "C:\\Users\\MACIEJ\\anaconda3\\lib\\site-packages\\urllib3\\connectionpool.py:1045: InsecureRequestWarning: Unverified HTTPS request is being made to host 'www.crcv.ucf.edu'. Adding certificate verification is strongly advised. See: https://urllib3.readthedocs.io/en/1.26.x/advanced-usage.html#ssl-warnings\n",
      "  warnings.warn(\n",
      "  4%|███▋                                                                               | 4/90 [00:05<02:08,  1.50s/it]"
     ]
    },
    {
     "name": "stdout",
     "output_type": "stream",
     "text": [
      "FN 2538-12_70246.avi\n",
      "Diving\n",
      "ucf_sports_actions\\train\n",
      "FN ucf_sports_actions/ucf action/Diving-Side/005/4475-1_70541.avi\n"
     ]
    },
    {
     "name": "stderr",
     "output_type": "stream",
     "text": [
      "C:\\Users\\MACIEJ\\anaconda3\\lib\\site-packages\\urllib3\\connectionpool.py:1045: InsecureRequestWarning: Unverified HTTPS request is being made to host 'www.crcv.ucf.edu'. Adding certificate verification is strongly advised. See: https://urllib3.readthedocs.io/en/1.26.x/advanced-usage.html#ssl-warnings\n",
      "  warnings.warn(\n",
      "  6%|████▌                                                                              | 5/90 [00:07<02:12,  1.56s/it]"
     ]
    },
    {
     "name": "stdout",
     "output_type": "stream",
     "text": [
      "FN 4475-1_70541.avi\n",
      "Golf-Swing\n",
      "ucf_sports_actions\\train\n",
      "FN ucf_sports_actions/ucf action/Golf-Swing-Back/004/7616-7_70270.avi\n"
     ]
    },
    {
     "name": "stderr",
     "output_type": "stream",
     "text": [
      "C:\\Users\\MACIEJ\\anaconda3\\lib\\site-packages\\urllib3\\connectionpool.py:1045: InsecureRequestWarning: Unverified HTTPS request is being made to host 'www.crcv.ucf.edu'. Adding certificate verification is strongly advised. See: https://urllib3.readthedocs.io/en/1.26.x/advanced-usage.html#ssl-warnings\n",
      "  warnings.warn(\n",
      "  7%|█████▌                                                                             | 6/90 [00:08<02:12,  1.58s/it]"
     ]
    },
    {
     "name": "stdout",
     "output_type": "stream",
     "text": [
      "FN 7616-7_70270.avi\n",
      "Golf-Swing\n",
      "ucf_sports_actions\\train\n",
      "FN ucf_sports_actions/ucf action/Golf-Swing-Front/005/RF1-13209_70050.avi\n"
     ]
    },
    {
     "name": "stderr",
     "output_type": "stream",
     "text": [
      "C:\\Users\\MACIEJ\\anaconda3\\lib\\site-packages\\urllib3\\connectionpool.py:1045: InsecureRequestWarning: Unverified HTTPS request is being made to host 'www.crcv.ucf.edu'. Adding certificate verification is strongly advised. See: https://urllib3.readthedocs.io/en/1.26.x/advanced-usage.html#ssl-warnings\n",
      "  warnings.warn(\n",
      "  8%|██████▍                                                                            | 7/90 [00:10<02:19,  1.68s/it]"
     ]
    },
    {
     "name": "stdout",
     "output_type": "stream",
     "text": [
      "FN RF1-13209_70050.avi\n",
      "Golf-Swing\n",
      "ucf_sports_actions\\train\n",
      "FN ucf_sports_actions/ucf action/Golf-Swing-Back/001/3283-8_700741.avi\n"
     ]
    },
    {
     "name": "stderr",
     "output_type": "stream",
     "text": [
      "C:\\Users\\MACIEJ\\anaconda3\\lib\\site-packages\\urllib3\\connectionpool.py:1045: InsecureRequestWarning: Unverified HTTPS request is being made to host 'www.crcv.ucf.edu'. Adding certificate verification is strongly advised. See: https://urllib3.readthedocs.io/en/1.26.x/advanced-usage.html#ssl-warnings\n",
      "  warnings.warn(\n",
      "  9%|███████▍                                                                           | 8/90 [00:12<02:28,  1.81s/it]"
     ]
    },
    {
     "name": "stdout",
     "output_type": "stream",
     "text": [
      "FN 3283-8_700741.avi\n",
      "Golf-Swing\n",
      "ucf_sports_actions\\train\n",
      "FN ucf_sports_actions/ucf action/Golf-Swing-Side/001/RF1-13207_7015.avi\n"
     ]
    },
    {
     "name": "stderr",
     "output_type": "stream",
     "text": [
      "C:\\Users\\MACIEJ\\anaconda3\\lib\\site-packages\\urllib3\\connectionpool.py:1045: InsecureRequestWarning: Unverified HTTPS request is being made to host 'www.crcv.ucf.edu'. Adding certificate verification is strongly advised. See: https://urllib3.readthedocs.io/en/1.26.x/advanced-usage.html#ssl-warnings\n",
      "  warnings.warn(\n",
      " 10%|████████▎                                                                          | 9/90 [00:15<02:47,  2.07s/it]"
     ]
    },
    {
     "name": "stdout",
     "output_type": "stream",
     "text": [
      "FN RF1-13207_7015.avi\n",
      "Golf-Swing\n",
      "ucf_sports_actions\\train\n",
      "FN ucf_sports_actions/ucf action/Golf-Swing-Back/002/3283-8_701201.avi\n"
     ]
    },
    {
     "name": "stderr",
     "output_type": "stream",
     "text": [
      "C:\\Users\\MACIEJ\\anaconda3\\lib\\site-packages\\urllib3\\connectionpool.py:1045: InsecureRequestWarning: Unverified HTTPS request is being made to host 'www.crcv.ucf.edu'. Adding certificate verification is strongly advised. See: https://urllib3.readthedocs.io/en/1.26.x/advanced-usage.html#ssl-warnings\n",
      "  warnings.warn(\n",
      " 11%|█████████                                                                         | 10/90 [00:17<02:44,  2.05s/it]"
     ]
    },
    {
     "name": "stdout",
     "output_type": "stream",
     "text": [
      "FN 3283-8_701201.avi\n",
      "Golf-Swing\n",
      "ucf_sports_actions\\train\n",
      "FN ucf_sports_actions/ucf action/Golf-Swing-Side/002/RF1-11456_70034.avi\n"
     ]
    },
    {
     "name": "stderr",
     "output_type": "stream",
     "text": [
      "C:\\Users\\MACIEJ\\anaconda3\\lib\\site-packages\\urllib3\\connectionpool.py:1045: InsecureRequestWarning: Unverified HTTPS request is being made to host 'www.crcv.ucf.edu'. Adding certificate verification is strongly advised. See: https://urllib3.readthedocs.io/en/1.26.x/advanced-usage.html#ssl-warnings\n",
      "  warnings.warn(\n",
      " 12%|██████████                                                                        | 11/90 [00:18<02:16,  1.72s/it]"
     ]
    },
    {
     "name": "stdout",
     "output_type": "stream",
     "text": [
      "FN RF1-11456_70034.avi\n",
      "Golf-Swing\n",
      "ucf_sports_actions\\train\n",
      "FN ucf_sports_actions/ucf action/Golf-Swing-Front/006/RF1-13428_70288.avi\n"
     ]
    },
    {
     "name": "stderr",
     "output_type": "stream",
     "text": [
      "C:\\Users\\MACIEJ\\anaconda3\\lib\\site-packages\\urllib3\\connectionpool.py:1045: InsecureRequestWarning: Unverified HTTPS request is being made to host 'www.crcv.ucf.edu'. Adding certificate verification is strongly advised. See: https://urllib3.readthedocs.io/en/1.26.x/advanced-usage.html#ssl-warnings\n",
      "  warnings.warn(\n",
      " 13%|██████████▉                                                                       | 12/90 [00:19<02:08,  1.65s/it]"
     ]
    },
    {
     "name": "stdout",
     "output_type": "stream",
     "text": [
      "FN RF1-13428_70288.avi\n",
      "Golf-Swing\n",
      "ucf_sports_actions\\train\n",
      "FN ucf_sports_actions/ucf action/Golf-Swing-Front/007/RF1-13588_70046.avi\n"
     ]
    },
    {
     "name": "stderr",
     "output_type": "stream",
     "text": [
      "C:\\Users\\MACIEJ\\anaconda3\\lib\\site-packages\\urllib3\\connectionpool.py:1045: InsecureRequestWarning: Unverified HTTPS request is being made to host 'www.crcv.ucf.edu'. Adding certificate verification is strongly advised. See: https://urllib3.readthedocs.io/en/1.26.x/advanced-usage.html#ssl-warnings\n",
      "  warnings.warn(\n",
      " 14%|███████████▊                                                                      | 13/90 [00:21<02:06,  1.64s/it]"
     ]
    },
    {
     "name": "stdout",
     "output_type": "stream",
     "text": [
      "FN RF1-13588_70046.avi\n",
      "Golf-Swing\n",
      "ucf_sports_actions\\train\n",
      "FN ucf_sports_actions/ucf action/Golf-Swing-Back/003/7608-12_70275.avi\n"
     ]
    },
    {
     "name": "stderr",
     "output_type": "stream",
     "text": [
      "C:\\Users\\MACIEJ\\anaconda3\\lib\\site-packages\\urllib3\\connectionpool.py:1045: InsecureRequestWarning: Unverified HTTPS request is being made to host 'www.crcv.ucf.edu'. Adding certificate verification is strongly advised. See: https://urllib3.readthedocs.io/en/1.26.x/advanced-usage.html#ssl-warnings\n",
      "  warnings.warn(\n",
      " 16%|████████████▊                                                                     | 14/90 [00:23<02:08,  1.69s/it]"
     ]
    },
    {
     "name": "stdout",
     "output_type": "stream",
     "text": [
      "FN 7608-12_70275.avi\n",
      "Golf-Swing\n",
      "ucf_sports_actions\\train\n",
      "FN ucf_sports_actions/ucf action/Golf-Swing-Side/004/7608-5_70039.avi\n"
     ]
    },
    {
     "name": "stderr",
     "output_type": "stream",
     "text": [
      "C:\\Users\\MACIEJ\\anaconda3\\lib\\site-packages\\urllib3\\connectionpool.py:1045: InsecureRequestWarning: Unverified HTTPS request is being made to host 'www.crcv.ucf.edu'. Adding certificate verification is strongly advised. See: https://urllib3.readthedocs.io/en/1.26.x/advanced-usage.html#ssl-warnings\n",
      "  warnings.warn(\n",
      " 17%|█████████████▋                                                                    | 15/90 [00:24<01:54,  1.53s/it]"
     ]
    },
    {
     "name": "stdout",
     "output_type": "stream",
     "text": [
      "FN 7608-5_70039.avi\n",
      "Golf-Swing\n",
      "ucf_sports_actions\\train\n",
      "FN ucf_sports_actions/ucf action/Golf-Swing-Front/003/RF1-13157_70040.avi\n"
     ]
    },
    {
     "name": "stderr",
     "output_type": "stream",
     "text": [
      "C:\\Users\\MACIEJ\\anaconda3\\lib\\site-packages\\urllib3\\connectionpool.py:1045: InsecureRequestWarning: Unverified HTTPS request is being made to host 'www.crcv.ucf.edu'. Adding certificate verification is strongly advised. See: https://urllib3.readthedocs.io/en/1.26.x/advanced-usage.html#ssl-warnings\n",
      "  warnings.warn(\n",
      " 18%|██████████████▌                                                                   | 16/90 [00:26<01:52,  1.53s/it]"
     ]
    },
    {
     "name": "stdout",
     "output_type": "stream",
     "text": [
      "FN RF1-13157_70040.avi\n",
      "Golf-Swing\n",
      "ucf_sports_actions\\train\n",
      "FN ucf_sports_actions/ucf action/Golf-Swing-Front/001/7603-4_70159.avi\n"
     ]
    },
    {
     "name": "stderr",
     "output_type": "stream",
     "text": [
      "C:\\Users\\MACIEJ\\anaconda3\\lib\\site-packages\\urllib3\\connectionpool.py:1045: InsecureRequestWarning: Unverified HTTPS request is being made to host 'www.crcv.ucf.edu'. Adding certificate verification is strongly advised. See: https://urllib3.readthedocs.io/en/1.26.x/advanced-usage.html#ssl-warnings\n",
      "  warnings.warn(\n",
      " 19%|███████████████▍                                                                  | 17/90 [00:27<01:50,  1.51s/it]"
     ]
    },
    {
     "name": "stdout",
     "output_type": "stream",
     "text": [
      "FN 7603-4_70159.avi\n",
      "Kicking\n",
      "ucf_sports_actions\\train\n",
      "FN ucf_sports_actions/ucf action/Kicking-Side/005/5863-29_70025.avi\n"
     ]
    },
    {
     "name": "stderr",
     "output_type": "stream",
     "text": [
      "C:\\Users\\MACIEJ\\anaconda3\\lib\\site-packages\\urllib3\\connectionpool.py:1045: InsecureRequestWarning: Unverified HTTPS request is being made to host 'www.crcv.ucf.edu'. Adding certificate verification is strongly advised. See: https://urllib3.readthedocs.io/en/1.26.x/advanced-usage.html#ssl-warnings\n",
      "  warnings.warn(\n",
      " 20%|████████████████▍                                                                 | 18/90 [00:28<01:42,  1.42s/it]"
     ]
    },
    {
     "name": "stdout",
     "output_type": "stream",
     "text": [
      "FN 5863-29_70025.avi\n",
      "Kicking\n",
      "ucf_sports_actions\\train\n",
      "FN ucf_sports_actions/ucf action/Kicking-Front/001/778-62_l146.avi\n"
     ]
    },
    {
     "name": "stderr",
     "output_type": "stream",
     "text": [
      "C:\\Users\\MACIEJ\\anaconda3\\lib\\site-packages\\urllib3\\connectionpool.py:1045: InsecureRequestWarning: Unverified HTTPS request is being made to host 'www.crcv.ucf.edu'. Adding certificate verification is strongly advised. See: https://urllib3.readthedocs.io/en/1.26.x/advanced-usage.html#ssl-warnings\n",
      "  warnings.warn(\n",
      " 21%|█████████████████▎                                                                | 19/90 [00:31<02:00,  1.70s/it]"
     ]
    },
    {
     "name": "stdout",
     "output_type": "stream",
     "text": [
      "FN 778-62_l146.avi\n",
      "Kicking\n",
      "ucf_sports_actions\\train\n",
      "FN ucf_sports_actions/ucf action/Kicking-Front/010/6731-2_70017.avi\n"
     ]
    },
    {
     "name": "stderr",
     "output_type": "stream",
     "text": [
      "C:\\Users\\MACIEJ\\anaconda3\\lib\\site-packages\\urllib3\\connectionpool.py:1045: InsecureRequestWarning: Unverified HTTPS request is being made to host 'www.crcv.ucf.edu'. Adding certificate verification is strongly advised. See: https://urllib3.readthedocs.io/en/1.26.x/advanced-usage.html#ssl-warnings\n",
      "  warnings.warn(\n",
      " 22%|██████████████████▏                                                               | 20/90 [00:32<01:49,  1.57s/it]"
     ]
    },
    {
     "name": "stdout",
     "output_type": "stream",
     "text": [
      "FN 6731-2_70017.avi\n",
      "Kicking\n",
      "ucf_sports_actions\\train\n",
      "FN ucf_sports_actions/ucf action/Kicking-Side/009/pstch3_clp21_0088_l105.avi\n"
     ]
    },
    {
     "name": "stderr",
     "output_type": "stream",
     "text": [
      "C:\\Users\\MACIEJ\\anaconda3\\lib\\site-packages\\urllib3\\connectionpool.py:1045: InsecureRequestWarning: Unverified HTTPS request is being made to host 'www.crcv.ucf.edu'. Adding certificate verification is strongly advised. See: https://urllib3.readthedocs.io/en/1.26.x/advanced-usage.html#ssl-warnings\n",
      "  warnings.warn(\n",
      " 23%|███████████████████▏                                                              | 21/90 [00:33<01:39,  1.45s/it]"
     ]
    },
    {
     "name": "stdout",
     "output_type": "stream",
     "text": [
      "FN pstch3_clp21_0088_l105.avi\n",
      "Kicking\n",
      "ucf_sports_actions\\train\n",
      "FN ucf_sports_actions/ucf action/Kicking-Front/007/6063-21_70056.avi\n"
     ]
    },
    {
     "name": "stderr",
     "output_type": "stream",
     "text": [
      "C:\\Users\\MACIEJ\\anaconda3\\lib\\site-packages\\urllib3\\connectionpool.py:1045: InsecureRequestWarning: Unverified HTTPS request is being made to host 'www.crcv.ucf.edu'. Adding certificate verification is strongly advised. See: https://urllib3.readthedocs.io/en/1.26.x/advanced-usage.html#ssl-warnings\n",
      "  warnings.warn(\n",
      " 24%|████████████████████                                                              | 22/90 [00:34<01:38,  1.44s/it]"
     ]
    },
    {
     "name": "stdout",
     "output_type": "stream",
     "text": [
      "FN 6063-21_70056.avi\n",
      "Kicking\n",
      "ucf_sports_actions\\train\n",
      "FN ucf_sports_actions/ucf action/Kicking-Side/001/3833-15_70577.avi\n"
     ]
    },
    {
     "name": "stderr",
     "output_type": "stream",
     "text": [
      "C:\\Users\\MACIEJ\\anaconda3\\lib\\site-packages\\urllib3\\connectionpool.py:1045: InsecureRequestWarning: Unverified HTTPS request is being made to host 'www.crcv.ucf.edu'. Adding certificate verification is strongly advised. See: https://urllib3.readthedocs.io/en/1.26.x/advanced-usage.html#ssl-warnings\n",
      "  warnings.warn(\n",
      " 26%|████████████████████▉                                                             | 23/90 [00:36<01:40,  1.50s/it]"
     ]
    },
    {
     "name": "stdout",
     "output_type": "stream",
     "text": [
      "FN 3833-15_70577.avi\n",
      "Kicking\n",
      "ucf_sports_actions\\train\n",
      "FN ucf_sports_actions/ucf action/Kicking-Front/005/3949-12_70207.avi\n"
     ]
    },
    {
     "name": "stderr",
     "output_type": "stream",
     "text": [
      "C:\\Users\\MACIEJ\\anaconda3\\lib\\site-packages\\urllib3\\connectionpool.py:1045: InsecureRequestWarning: Unverified HTTPS request is being made to host 'www.crcv.ucf.edu'. Adding certificate verification is strongly advised. See: https://urllib3.readthedocs.io/en/1.26.x/advanced-usage.html#ssl-warnings\n",
      "  warnings.warn(\n",
      " 27%|█████████████████████▊                                                            | 24/90 [00:38<01:45,  1.60s/it]"
     ]
    },
    {
     "name": "stdout",
     "output_type": "stream",
     "text": [
      "FN 3949-12_70207.avi\n",
      "Kicking\n",
      "ucf_sports_actions\\train\n",
      "FN ucf_sports_actions/ucf action/Kicking-Front/003/3833-27_70006.avi\n"
     ]
    },
    {
     "name": "stderr",
     "output_type": "stream",
     "text": [
      "C:\\Users\\MACIEJ\\anaconda3\\lib\\site-packages\\urllib3\\connectionpool.py:1045: InsecureRequestWarning: Unverified HTTPS request is being made to host 'www.crcv.ucf.edu'. Adding certificate verification is strongly advised. See: https://urllib3.readthedocs.io/en/1.26.x/advanced-usage.html#ssl-warnings\n",
      "  warnings.warn(\n",
      " 28%|██████████████████████▊                                                           | 25/90 [00:40<01:58,  1.83s/it]"
     ]
    },
    {
     "name": "stdout",
     "output_type": "stream",
     "text": [
      "FN 3833-27_70006.avi\n",
      "Kicking\n",
      "ucf_sports_actions\\train\n",
      "FN ucf_sports_actions/ucf action/Kicking-Side/010/RF1-16941_70021.avi\n"
     ]
    },
    {
     "name": "stderr",
     "output_type": "stream",
     "text": [
      "C:\\Users\\MACIEJ\\anaconda3\\lib\\site-packages\\urllib3\\connectionpool.py:1045: InsecureRequestWarning: Unverified HTTPS request is being made to host 'www.crcv.ucf.edu'. Adding certificate verification is strongly advised. See: https://urllib3.readthedocs.io/en/1.26.x/advanced-usage.html#ssl-warnings\n",
      "  warnings.warn(\n",
      " 29%|███████████████████████▋                                                          | 26/90 [00:41<01:44,  1.64s/it]"
     ]
    },
    {
     "name": "stdout",
     "output_type": "stream",
     "text": [
      "FN RF1-16941_70021.avi\n",
      "Kicking\n",
      "ucf_sports_actions\\train\n",
      "FN ucf_sports_actions/ucf action/Kicking-Side/006/6063-20_70333.avi\n"
     ]
    },
    {
     "name": "stderr",
     "output_type": "stream",
     "text": [
      "C:\\Users\\MACIEJ\\anaconda3\\lib\\site-packages\\urllib3\\connectionpool.py:1045: InsecureRequestWarning: Unverified HTTPS request is being made to host 'www.crcv.ucf.edu'. Adding certificate verification is strongly advised. See: https://urllib3.readthedocs.io/en/1.26.x/advanced-usage.html#ssl-warnings\n",
      "  warnings.warn(\n",
      " 30%|████████████████████████▌                                                         | 27/90 [00:44<01:55,  1.84s/it]"
     ]
    },
    {
     "name": "stdout",
     "output_type": "stream",
     "text": [
      "FN 6063-20_70333.avi\n",
      "Kicking\n",
      "ucf_sports_actions\\train\n",
      "FN ucf_sports_actions/ucf action/Kicking-Front/008/6351-6_70000.avi\n"
     ]
    },
    {
     "name": "stderr",
     "output_type": "stream",
     "text": [
      "C:\\Users\\MACIEJ\\anaconda3\\lib\\site-packages\\urllib3\\connectionpool.py:1045: InsecureRequestWarning: Unverified HTTPS request is being made to host 'www.crcv.ucf.edu'. Adding certificate verification is strongly advised. See: https://urllib3.readthedocs.io/en/1.26.x/advanced-usage.html#ssl-warnings\n",
      "  warnings.warn(\n",
      " 31%|█████████████████████████▌                                                        | 28/90 [00:46<01:53,  1.83s/it]"
     ]
    },
    {
     "name": "stdout",
     "output_type": "stream",
     "text": [
      "FN 6351-6_70000.avi\n",
      "Kicking\n",
      "ucf_sports_actions\\train\n",
      "FN ucf_sports_actions/ucf action/Kicking-Side/008/pstch3_clp16_0079_l050.avi\n"
     ]
    },
    {
     "name": "stderr",
     "output_type": "stream",
     "text": [
      "C:\\Users\\MACIEJ\\anaconda3\\lib\\site-packages\\urllib3\\connectionpool.py:1045: InsecureRequestWarning: Unverified HTTPS request is being made to host 'www.crcv.ucf.edu'. Adding certificate verification is strongly advised. See: https://urllib3.readthedocs.io/en/1.26.x/advanced-usage.html#ssl-warnings\n",
      "  warnings.warn(\n",
      " 32%|██████████████████████████▍                                                       | 29/90 [00:47<01:38,  1.62s/it]"
     ]
    },
    {
     "name": "stdout",
     "output_type": "stream",
     "text": [
      "FN pstch3_clp16_0079_l050.avi\n",
      "Kicking\n",
      "ucf_sports_actions\\train\n",
      "FN ucf_sports_actions/ucf action/Kicking-Front/004/3937-9_70105.avi\n"
     ]
    },
    {
     "name": "stderr",
     "output_type": "stream",
     "text": [
      "C:\\Users\\MACIEJ\\anaconda3\\lib\\site-packages\\urllib3\\connectionpool.py:1045: InsecureRequestWarning: Unverified HTTPS request is being made to host 'www.crcv.ucf.edu'. Adding certificate verification is strongly advised. See: https://urllib3.readthedocs.io/en/1.26.x/advanced-usage.html#ssl-warnings\n",
      "  warnings.warn(\n",
      " 33%|███████████████████████████▎                                                      | 30/90 [00:48<01:30,  1.51s/it]"
     ]
    },
    {
     "name": "stdout",
     "output_type": "stream",
     "text": [
      "FN 3937-9_70105.avi\n",
      "Lifting\n",
      "ucf_sports_actions\\train\n",
      "FN ucf_sports_actions/ucf action/Lifting/003/2502-3_70368.avi\n"
     ]
    },
    {
     "name": "stderr",
     "output_type": "stream",
     "text": [
      "C:\\Users\\MACIEJ\\anaconda3\\lib\\site-packages\\urllib3\\connectionpool.py:1045: InsecureRequestWarning: Unverified HTTPS request is being made to host 'www.crcv.ucf.edu'. Adding certificate verification is strongly advised. See: https://urllib3.readthedocs.io/en/1.26.x/advanced-usage.html#ssl-warnings\n",
      "  warnings.warn(\n",
      " 34%|████████████████████████████▏                                                     | 31/90 [00:50<01:32,  1.56s/it]"
     ]
    },
    {
     "name": "stdout",
     "output_type": "stream",
     "text": [
      "FN 2502-3_70368.avi\n",
      "Lifting\n",
      "ucf_sports_actions\\train\n",
      "FN ucf_sports_actions/ucf action/Lifting/005/3528-6_70270.avi\n"
     ]
    },
    {
     "name": "stderr",
     "output_type": "stream",
     "text": [
      "C:\\Users\\MACIEJ\\anaconda3\\lib\\site-packages\\urllib3\\connectionpool.py:1045: InsecureRequestWarning: Unverified HTTPS request is being made to host 'www.crcv.ucf.edu'. Adding certificate verification is strongly advised. See: https://urllib3.readthedocs.io/en/1.26.x/advanced-usage.html#ssl-warnings\n",
      "  warnings.warn(\n",
      " 36%|█████████████████████████████▏                                                    | 32/90 [00:51<01:32,  1.60s/it]"
     ]
    },
    {
     "name": "stdout",
     "output_type": "stream",
     "text": [
      "FN 3528-6_70270.avi\n",
      "Lifting\n",
      "ucf_sports_actions\\train\n",
      "FN ucf_sports_actions/ucf action/Lifting/001/3528-8_70514.avi\n"
     ]
    },
    {
     "name": "stderr",
     "output_type": "stream",
     "text": [
      "C:\\Users\\MACIEJ\\anaconda3\\lib\\site-packages\\urllib3\\connectionpool.py:1045: InsecureRequestWarning: Unverified HTTPS request is being made to host 'www.crcv.ucf.edu'. Adding certificate verification is strongly advised. See: https://urllib3.readthedocs.io/en/1.26.x/advanced-usage.html#ssl-warnings\n",
      "  warnings.warn(\n",
      " 37%|██████████████████████████████                                                    | 33/90 [00:53<01:32,  1.63s/it]"
     ]
    },
    {
     "name": "stdout",
     "output_type": "stream",
     "text": [
      "FN 3528-8_70514.avi\n",
      "Lifting\n",
      "ucf_sports_actions\\train\n",
      "FN ucf_sports_actions/ucf action/Lifting/004/3528-6_70(2)268.avi\n"
     ]
    },
    {
     "name": "stderr",
     "output_type": "stream",
     "text": [
      "C:\\Users\\MACIEJ\\anaconda3\\lib\\site-packages\\urllib3\\connectionpool.py:1045: InsecureRequestWarning: Unverified HTTPS request is being made to host 'www.crcv.ucf.edu'. Adding certificate verification is strongly advised. See: https://urllib3.readthedocs.io/en/1.26.x/advanced-usage.html#ssl-warnings\n",
      "  warnings.warn(\n",
      " 38%|██████████████████████████████▉                                                   | 34/90 [00:55<01:32,  1.65s/it]"
     ]
    },
    {
     "name": "stdout",
     "output_type": "stream",
     "text": [
      "FN 3528-6_70(2)268.avi\n",
      "Riding-Horse\n",
      "ucf_sports_actions\\train\n",
      "FN ucf_sports_actions/ucf action/Riding-Horse/008/6029-1_70143.avi\n"
     ]
    },
    {
     "name": "stderr",
     "output_type": "stream",
     "text": [
      "C:\\Users\\MACIEJ\\anaconda3\\lib\\site-packages\\urllib3\\connectionpool.py:1045: InsecureRequestWarning: Unverified HTTPS request is being made to host 'www.crcv.ucf.edu'. Adding certificate verification is strongly advised. See: https://urllib3.readthedocs.io/en/1.26.x/advanced-usage.html#ssl-warnings\n",
      "  warnings.warn(\n",
      " 39%|███████████████████████████████▉                                                  | 35/90 [00:56<01:30,  1.64s/it]"
     ]
    },
    {
     "name": "stdout",
     "output_type": "stream",
     "text": [
      "FN 6029-1_70143.avi\n",
      "Riding-Horse\n",
      "ucf_sports_actions\\train\n",
      "FN ucf_sports_actions/ucf action/Riding-Horse/007/6029-1_70001.avi\n"
     ]
    },
    {
     "name": "stderr",
     "output_type": "stream",
     "text": [
      "C:\\Users\\MACIEJ\\anaconda3\\lib\\site-packages\\urllib3\\connectionpool.py:1045: InsecureRequestWarning: Unverified HTTPS request is being made to host 'www.crcv.ucf.edu'. Adding certificate verification is strongly advised. See: https://urllib3.readthedocs.io/en/1.26.x/advanced-usage.html#ssl-warnings\n",
      "  warnings.warn(\n",
      " 40%|████████████████████████████████▊                                                 | 36/90 [00:58<01:27,  1.62s/it]"
     ]
    },
    {
     "name": "stdout",
     "output_type": "stream",
     "text": [
      "FN 6029-1_70001.avi\n",
      "Riding-Horse\n",
      "ucf_sports_actions\\train\n",
      "FN ucf_sports_actions/ucf action/Riding-Horse/009/6326-9_70170.avi\n"
     ]
    },
    {
     "name": "stderr",
     "output_type": "stream",
     "text": [
      "C:\\Users\\MACIEJ\\anaconda3\\lib\\site-packages\\urllib3\\connectionpool.py:1045: InsecureRequestWarning: Unverified HTTPS request is being made to host 'www.crcv.ucf.edu'. Adding certificate verification is strongly advised. See: https://urllib3.readthedocs.io/en/1.26.x/advanced-usage.html#ssl-warnings\n",
      "  warnings.warn(\n",
      " 41%|█████████████████████████████████▋                                                | 37/90 [00:59<01:23,  1.58s/it]"
     ]
    },
    {
     "name": "stdout",
     "output_type": "stream",
     "text": [
      "FN 6326-9_70170.avi\n",
      "Riding-Horse\n",
      "ucf_sports_actions\\train\n",
      "FN ucf_sports_actions/ucf action/Riding-Horse/010/RF1-12001_70063.avi\n"
     ]
    },
    {
     "name": "stderr",
     "output_type": "stream",
     "text": [
      "C:\\Users\\MACIEJ\\anaconda3\\lib\\site-packages\\urllib3\\connectionpool.py:1045: InsecureRequestWarning: Unverified HTTPS request is being made to host 'www.crcv.ucf.edu'. Adding certificate verification is strongly advised. See: https://urllib3.readthedocs.io/en/1.26.x/advanced-usage.html#ssl-warnings\n",
      "  warnings.warn(\n",
      " 42%|██████████████████████████████████▌                                               | 38/90 [01:01<01:25,  1.64s/it]"
     ]
    },
    {
     "name": "stdout",
     "output_type": "stream",
     "text": [
      "FN RF1-12001_70063.avi\n",
      "Riding-Horse\n",
      "ucf_sports_actions\\train\n",
      "FN ucf_sports_actions/ucf action/Riding-Horse/012/7467-18_70103.avi\n"
     ]
    },
    {
     "name": "stderr",
     "output_type": "stream",
     "text": [
      "C:\\Users\\MACIEJ\\anaconda3\\lib\\site-packages\\urllib3\\connectionpool.py:1045: InsecureRequestWarning: Unverified HTTPS request is being made to host 'www.crcv.ucf.edu'. Adding certificate verification is strongly advised. See: https://urllib3.readthedocs.io/en/1.26.x/advanced-usage.html#ssl-warnings\n",
      "  warnings.warn(\n",
      " 43%|███████████████████████████████████▌                                              | 39/90 [01:03<01:29,  1.76s/it]"
     ]
    },
    {
     "name": "stdout",
     "output_type": "stream",
     "text": [
      "FN 7467-18_70103.avi\n",
      "Riding-Horse\n",
      "ucf_sports_actions\\train\n",
      "FN ucf_sports_actions/ucf action/Riding-Horse/001/4456-16_700040.avi\n"
     ]
    },
    {
     "name": "stderr",
     "output_type": "stream",
     "text": [
      "C:\\Users\\MACIEJ\\anaconda3\\lib\\site-packages\\urllib3\\connectionpool.py:1045: InsecureRequestWarning: Unverified HTTPS request is being made to host 'www.crcv.ucf.edu'. Adding certificate verification is strongly advised. See: https://urllib3.readthedocs.io/en/1.26.x/advanced-usage.html#ssl-warnings\n",
      "  warnings.warn(\n",
      " 44%|████████████████████████████████████▍                                             | 40/90 [01:05<01:24,  1.69s/it]"
     ]
    },
    {
     "name": "stdout",
     "output_type": "stream",
     "text": [
      "FN 4456-16_700040.avi\n",
      "Riding-Horse\n",
      "ucf_sports_actions\\train\n",
      "FN ucf_sports_actions/ucf action/Riding-Horse/005/4456-16_700516.avi\n"
     ]
    },
    {
     "name": "stderr",
     "output_type": "stream",
     "text": [
      "C:\\Users\\MACIEJ\\anaconda3\\lib\\site-packages\\urllib3\\connectionpool.py:1045: InsecureRequestWarning: Unverified HTTPS request is being made to host 'www.crcv.ucf.edu'. Adding certificate verification is strongly advised. See: https://urllib3.readthedocs.io/en/1.26.x/advanced-usage.html#ssl-warnings\n",
      "  warnings.warn(\n",
      " 46%|█████████████████████████████████████▎                                            | 41/90 [01:06<01:19,  1.62s/it]"
     ]
    },
    {
     "name": "stdout",
     "output_type": "stream",
     "text": [
      "FN 4456-16_700516.avi\n",
      "Run\n",
      "ucf_sports_actions\\train\n",
      "FN ucf_sports_actions/ucf action/Run-Side/011/5117-8_70157.avi\n"
     ]
    },
    {
     "name": "stderr",
     "output_type": "stream",
     "text": [
      "C:\\Users\\MACIEJ\\anaconda3\\lib\\site-packages\\urllib3\\connectionpool.py:1045: InsecureRequestWarning: Unverified HTTPS request is being made to host 'www.crcv.ucf.edu'. Adding certificate verification is strongly advised. See: https://urllib3.readthedocs.io/en/1.26.x/advanced-usage.html#ssl-warnings\n",
      "  warnings.warn(\n",
      " 47%|██████████████████████████████████████▎                                           | 42/90 [01:08<01:17,  1.62s/it]"
     ]
    },
    {
     "name": "stdout",
     "output_type": "stream",
     "text": [
      "FN 5117-8_70157.avi\n",
      "Run\n",
      "ucf_sports_actions\\train\n",
      "FN ucf_sports_actions/ucf action/Run-Side/008/7850-5_70090.avi\n"
     ]
    },
    {
     "name": "stderr",
     "output_type": "stream",
     "text": [
      "C:\\Users\\MACIEJ\\anaconda3\\lib\\site-packages\\urllib3\\connectionpool.py:1045: InsecureRequestWarning: Unverified HTTPS request is being made to host 'www.crcv.ucf.edu'. Adding certificate verification is strongly advised. See: https://urllib3.readthedocs.io/en/1.26.x/advanced-usage.html#ssl-warnings\n",
      "  warnings.warn(\n",
      " 48%|███████████████████████████████████████▏                                          | 43/90 [01:09<01:15,  1.61s/it]"
     ]
    },
    {
     "name": "stdout",
     "output_type": "stream",
     "text": [
      "FN 7850-5_70090.avi\n",
      "Run\n",
      "ucf_sports_actions\\train\n",
      "FN ucf_sports_actions/ucf action/Run-Side/004/5238-17_700950.avi\n"
     ]
    },
    {
     "name": "stderr",
     "output_type": "stream",
     "text": [
      "C:\\Users\\MACIEJ\\anaconda3\\lib\\site-packages\\urllib3\\connectionpool.py:1045: InsecureRequestWarning: Unverified HTTPS request is being made to host 'www.crcv.ucf.edu'. Adding certificate verification is strongly advised. See: https://urllib3.readthedocs.io/en/1.26.x/advanced-usage.html#ssl-warnings\n",
      "  warnings.warn(\n",
      " 49%|████████████████████████████████████████                                          | 44/90 [01:11<01:14,  1.61s/it]"
     ]
    },
    {
     "name": "stdout",
     "output_type": "stream",
     "text": [
      "FN 5238-17_700950.avi\n",
      "Run\n",
      "ucf_sports_actions\\train\n",
      "FN ucf_sports_actions/ucf action/Run-Side/010/5373-10_70026.avi\n"
     ]
    },
    {
     "name": "stderr",
     "output_type": "stream",
     "text": [
      "C:\\Users\\MACIEJ\\anaconda3\\lib\\site-packages\\urllib3\\connectionpool.py:1045: InsecureRequestWarning: Unverified HTTPS request is being made to host 'www.crcv.ucf.edu'. Adding certificate verification is strongly advised. See: https://urllib3.readthedocs.io/en/1.26.x/advanced-usage.html#ssl-warnings\n",
      "  warnings.warn(\n",
      " 50%|█████████████████████████████████████████                                         | 45/90 [01:13<01:13,  1.62s/it]"
     ]
    },
    {
     "name": "stdout",
     "output_type": "stream",
     "text": [
      "FN 5373-10_70026.avi\n",
      "Run\n",
      "ucf_sports_actions\\train\n",
      "FN ucf_sports_actions/ucf action/Run-Side/003/5238-17_700641.avi\n"
     ]
    },
    {
     "name": "stderr",
     "output_type": "stream",
     "text": [
      "C:\\Users\\MACIEJ\\anaconda3\\lib\\site-packages\\urllib3\\connectionpool.py:1045: InsecureRequestWarning: Unverified HTTPS request is being made to host 'www.crcv.ucf.edu'. Adding certificate verification is strongly advised. See: https://urllib3.readthedocs.io/en/1.26.x/advanced-usage.html#ssl-warnings\n",
      "  warnings.warn(\n",
      " 51%|█████████████████████████████████████████▉                                        | 46/90 [01:14<01:00,  1.38s/it]"
     ]
    },
    {
     "name": "stdout",
     "output_type": "stream",
     "text": [
      "FN 5238-17_700641.avi\n",
      "Run\n",
      "ucf_sports_actions\\train\n",
      "FN ucf_sports_actions/ucf action/Run-Side/006/5238-17_701141.avi\n"
     ]
    },
    {
     "name": "stderr",
     "output_type": "stream",
     "text": [
      "C:\\Users\\MACIEJ\\anaconda3\\lib\\site-packages\\urllib3\\connectionpool.py:1045: InsecureRequestWarning: Unverified HTTPS request is being made to host 'www.crcv.ucf.edu'. Adding certificate verification is strongly advised. See: https://urllib3.readthedocs.io/en/1.26.x/advanced-usage.html#ssl-warnings\n",
      "  warnings.warn(\n",
      " 52%|██████████████████████████████████████████▊                                       | 47/90 [01:15<01:02,  1.45s/it]"
     ]
    },
    {
     "name": "stdout",
     "output_type": "stream",
     "text": [
      "FN 5238-17_701141.avi\n",
      "Run\n",
      "ucf_sports_actions\\train\n",
      "FN ucf_sports_actions/ucf action/Run-Side/013/5020-1_70062.avi\n"
     ]
    },
    {
     "name": "stderr",
     "output_type": "stream",
     "text": [
      "C:\\Users\\MACIEJ\\anaconda3\\lib\\site-packages\\urllib3\\connectionpool.py:1045: InsecureRequestWarning: Unverified HTTPS request is being made to host 'www.crcv.ucf.edu'. Adding certificate verification is strongly advised. See: https://urllib3.readthedocs.io/en/1.26.x/advanced-usage.html#ssl-warnings\n",
      "  warnings.warn(\n",
      " 53%|███████████████████████████████████████████▋                                      | 48/90 [01:16<00:57,  1.37s/it]"
     ]
    },
    {
     "name": "stdout",
     "output_type": "stream",
     "text": [
      "FN 5020-1_70062.avi\n",
      "Run\n",
      "ucf_sports_actions\\train\n",
      "FN ucf_sports_actions/ucf action/Run-Side/005/5238-17_701581.avi\n"
     ]
    },
    {
     "name": "stderr",
     "output_type": "stream",
     "text": [
      "C:\\Users\\MACIEJ\\anaconda3\\lib\\site-packages\\urllib3\\connectionpool.py:1045: InsecureRequestWarning: Unverified HTTPS request is being made to host 'www.crcv.ucf.edu'. Adding certificate verification is strongly advised. See: https://urllib3.readthedocs.io/en/1.26.x/advanced-usage.html#ssl-warnings\n",
      "  warnings.warn(\n",
      " 54%|████████████████████████████████████████████▋                                     | 49/90 [01:18<01:00,  1.47s/it]"
     ]
    },
    {
     "name": "stdout",
     "output_type": "stream",
     "text": [
      "FN 5238-17_701581.avi\n",
      "SkateBoarding\n",
      "ucf_sports_actions\\train\n",
      "FN ucf_sports_actions/ucf action/SkateBoarding-Front/011/947-70454.avi\n"
     ]
    },
    {
     "name": "stderr",
     "output_type": "stream",
     "text": [
      "C:\\Users\\MACIEJ\\anaconda3\\lib\\site-packages\\urllib3\\connectionpool.py:1045: InsecureRequestWarning: Unverified HTTPS request is being made to host 'www.crcv.ucf.edu'. Adding certificate verification is strongly advised. See: https://urllib3.readthedocs.io/en/1.26.x/advanced-usage.html#ssl-warnings\n",
      "  warnings.warn(\n",
      " 56%|█████████████████████████████████████████████▌                                    | 50/90 [01:20<01:00,  1.52s/it]"
     ]
    },
    {
     "name": "stdout",
     "output_type": "stream",
     "text": [
      "FN 947-70454.avi\n",
      "SkateBoarding\n",
      "ucf_sports_actions\\train\n",
      "FN ucf_sports_actions/ucf action/SkateBoarding-Front/001/708-75070.avi\n"
     ]
    },
    {
     "name": "stderr",
     "output_type": "stream",
     "text": [
      "C:\\Users\\MACIEJ\\anaconda3\\lib\\site-packages\\urllib3\\connectionpool.py:1045: InsecureRequestWarning: Unverified HTTPS request is being made to host 'www.crcv.ucf.edu'. Adding certificate verification is strongly advised. See: https://urllib3.readthedocs.io/en/1.26.x/advanced-usage.html#ssl-warnings\n",
      "  warnings.warn(\n",
      " 57%|██████████████████████████████████████████████▍                                   | 51/90 [01:21<01:01,  1.58s/it]"
     ]
    },
    {
     "name": "stdout",
     "output_type": "stream",
     "text": [
      "FN 708-75070.avi\n",
      "SkateBoarding\n",
      "ucf_sports_actions\\train\n",
      "FN ucf_sports_actions/ucf action/SkateBoarding-Front/004/761-39000.avi\n"
     ]
    },
    {
     "name": "stderr",
     "output_type": "stream",
     "text": [
      "C:\\Users\\MACIEJ\\anaconda3\\lib\\site-packages\\urllib3\\connectionpool.py:1045: InsecureRequestWarning: Unverified HTTPS request is being made to host 'www.crcv.ucf.edu'. Adding certificate verification is strongly advised. See: https://urllib3.readthedocs.io/en/1.26.x/advanced-usage.html#ssl-warnings\n",
      "  warnings.warn(\n",
      " 58%|███████████████████████████████████████████████▍                                  | 52/90 [01:23<01:02,  1.66s/it]"
     ]
    },
    {
     "name": "stdout",
     "output_type": "stream",
     "text": [
      "FN 761-39000.avi\n",
      "SkateBoarding\n",
      "ucf_sports_actions\\train\n",
      "FN ucf_sports_actions/ucf action/SkateBoarding-Front/008/860-38064.avi\n"
     ]
    },
    {
     "name": "stderr",
     "output_type": "stream",
     "text": [
      "C:\\Users\\MACIEJ\\anaconda3\\lib\\site-packages\\urllib3\\connectionpool.py:1045: InsecureRequestWarning: Unverified HTTPS request is being made to host 'www.crcv.ucf.edu'. Adding certificate verification is strongly advised. See: https://urllib3.readthedocs.io/en/1.26.x/advanced-usage.html#ssl-warnings\n",
      "  warnings.warn(\n",
      " 59%|████████████████████████████████████████████████▎                                 | 53/90 [01:25<01:02,  1.68s/it]"
     ]
    },
    {
     "name": "stdout",
     "output_type": "stream",
     "text": [
      "FN 860-38064.avi\n",
      "SkateBoarding\n",
      "ucf_sports_actions\\train\n",
      "FN ucf_sports_actions/ucf action/SkateBoarding-Front/003/711-66044.avi\n"
     ]
    },
    {
     "name": "stderr",
     "output_type": "stream",
     "text": [
      "C:\\Users\\MACIEJ\\anaconda3\\lib\\site-packages\\urllib3\\connectionpool.py:1045: InsecureRequestWarning: Unverified HTTPS request is being made to host 'www.crcv.ucf.edu'. Adding certificate verification is strongly advised. See: https://urllib3.readthedocs.io/en/1.26.x/advanced-usage.html#ssl-warnings\n",
      "  warnings.warn(\n",
      " 60%|█████████████████████████████████████████████████▏                                | 54/90 [01:27<01:05,  1.82s/it]"
     ]
    },
    {
     "name": "stdout",
     "output_type": "stream",
     "text": [
      "FN 711-66044.avi\n",
      "SkateBoarding\n",
      "ucf_sports_actions\\train\n",
      "FN ucf_sports_actions/ucf action/SkateBoarding-Front/009/947-58108.avi\n"
     ]
    },
    {
     "name": "stderr",
     "output_type": "stream",
     "text": [
      "C:\\Users\\MACIEJ\\anaconda3\\lib\\site-packages\\urllib3\\connectionpool.py:1045: InsecureRequestWarning: Unverified HTTPS request is being made to host 'www.crcv.ucf.edu'. Adding certificate verification is strongly advised. See: https://urllib3.readthedocs.io/en/1.26.x/advanced-usage.html#ssl-warnings\n",
      "  warnings.warn(\n",
      " 61%|██████████████████████████████████████████████████                                | 55/90 [01:29<01:02,  1.78s/it]"
     ]
    },
    {
     "name": "stdout",
     "output_type": "stream",
     "text": [
      "FN 947-58108.avi\n",
      "SkateBoarding\n",
      "ucf_sports_actions\\train\n",
      "FN ucf_sports_actions/ucf action/SkateBoarding-Front/012/1058-22003.avi\n"
     ]
    },
    {
     "name": "stderr",
     "output_type": "stream",
     "text": [
      "C:\\Users\\MACIEJ\\anaconda3\\lib\\site-packages\\urllib3\\connectionpool.py:1045: InsecureRequestWarning: Unverified HTTPS request is being made to host 'www.crcv.ucf.edu'. Adding certificate verification is strongly advised. See: https://urllib3.readthedocs.io/en/1.26.x/advanced-usage.html#ssl-warnings\n",
      "  warnings.warn(\n",
      " 62%|███████████████████████████████████████████████████                               | 56/90 [01:31<01:03,  1.86s/it]"
     ]
    },
    {
     "name": "stdout",
     "output_type": "stream",
     "text": [
      "FN 1058-22003.avi\n",
      "Swing-Bench\n",
      "ucf_sports_actions\\train\n",
      "FN ucf_sports_actions/ucf action/Swing-Bench/003/669-60220.avi\n"
     ]
    },
    {
     "name": "stderr",
     "output_type": "stream",
     "text": [
      "C:\\Users\\MACIEJ\\anaconda3\\lib\\site-packages\\urllib3\\connectionpool.py:1045: InsecureRequestWarning: Unverified HTTPS request is being made to host 'www.crcv.ucf.edu'. Adding certificate verification is strongly advised. See: https://urllib3.readthedocs.io/en/1.26.x/advanced-usage.html#ssl-warnings\n",
      "  warnings.warn(\n",
      " 63%|███████████████████████████████████████████████████▉                              | 57/90 [01:33<01:03,  1.94s/it]"
     ]
    },
    {
     "name": "stdout",
     "output_type": "stream",
     "text": [
      "FN 669-60220.avi\n",
      "Swing-Bench\n",
      "ucf_sports_actions\\train\n",
      "FN ucf_sports_actions/ucf action/Swing-Bench/007/2527-5_70114.avi\n"
     ]
    },
    {
     "name": "stderr",
     "output_type": "stream",
     "text": [
      "C:\\Users\\MACIEJ\\anaconda3\\lib\\site-packages\\urllib3\\connectionpool.py:1045: InsecureRequestWarning: Unverified HTTPS request is being made to host 'www.crcv.ucf.edu'. Adding certificate verification is strongly advised. See: https://urllib3.readthedocs.io/en/1.26.x/advanced-usage.html#ssl-warnings\n",
      "  warnings.warn(\n",
      " 64%|████████████████████████████████████████████████████▊                             | 58/90 [01:35<00:58,  1.84s/it]"
     ]
    },
    {
     "name": "stdout",
     "output_type": "stream",
     "text": [
      "FN 2527-5_70114.avi\n",
      "Swing-Bench\n",
      "ucf_sports_actions\\train\n",
      "FN ucf_sports_actions/ucf action/Swing-Bench/018/2527-12_70574.avi\n"
     ]
    },
    {
     "name": "stderr",
     "output_type": "stream",
     "text": [
      "C:\\Users\\MACIEJ\\anaconda3\\lib\\site-packages\\urllib3\\connectionpool.py:1045: InsecureRequestWarning: Unverified HTTPS request is being made to host 'www.crcv.ucf.edu'. Adding certificate verification is strongly advised. See: https://urllib3.readthedocs.io/en/1.26.x/advanced-usage.html#ssl-warnings\n",
      "  warnings.warn(\n",
      " 66%|█████████████████████████████████████████████████████▊                            | 59/90 [01:36<00:54,  1.75s/it]"
     ]
    },
    {
     "name": "stdout",
     "output_type": "stream",
     "text": [
      "FN 2527-12_70574.avi\n",
      "Swing-Bench\n",
      "ucf_sports_actions\\train\n",
      "FN ucf_sports_actions/ucf action/Swing-Bench/014/2527-12_70360.avi\n"
     ]
    },
    {
     "name": "stderr",
     "output_type": "stream",
     "text": [
      "C:\\Users\\MACIEJ\\anaconda3\\lib\\site-packages\\urllib3\\connectionpool.py:1045: InsecureRequestWarning: Unverified HTTPS request is being made to host 'www.crcv.ucf.edu'. Adding certificate verification is strongly advised. See: https://urllib3.readthedocs.io/en/1.26.x/advanced-usage.html#ssl-warnings\n",
      "  warnings.warn(\n",
      " 67%|██████████████████████████████████████████████████████▋                           | 60/90 [01:38<00:49,  1.66s/it]"
     ]
    },
    {
     "name": "stdout",
     "output_type": "stream",
     "text": [
      "FN 2527-12_70360.avi\n",
      "Swing-Bench\n",
      "ucf_sports_actions\\train\n",
      "FN ucf_sports_actions/ucf action/Swing-Bench/004/669-67070.avi\n"
     ]
    },
    {
     "name": "stderr",
     "output_type": "stream",
     "text": [
      "C:\\Users\\MACIEJ\\anaconda3\\lib\\site-packages\\urllib3\\connectionpool.py:1045: InsecureRequestWarning: Unverified HTTPS request is being made to host 'www.crcv.ucf.edu'. Adding certificate verification is strongly advised. See: https://urllib3.readthedocs.io/en/1.26.x/advanced-usage.html#ssl-warnings\n",
      "  warnings.warn(\n",
      " 68%|███████████████████████████████████████████████████████▌                          | 61/90 [01:39<00:47,  1.65s/it]"
     ]
    },
    {
     "name": "stdout",
     "output_type": "stream",
     "text": [
      "FN 669-67070.avi\n",
      "Swing-Bench\n",
      "ucf_sports_actions\\train\n",
      "FN ucf_sports_actions/ucf action/Swing-Bench/006/2527-5_70020.avi\n"
     ]
    },
    {
     "name": "stderr",
     "output_type": "stream",
     "text": [
      "C:\\Users\\MACIEJ\\anaconda3\\lib\\site-packages\\urllib3\\connectionpool.py:1045: InsecureRequestWarning: Unverified HTTPS request is being made to host 'www.crcv.ucf.edu'. Adding certificate verification is strongly advised. See: https://urllib3.readthedocs.io/en/1.26.x/advanced-usage.html#ssl-warnings\n",
      "  warnings.warn(\n",
      " 69%|████████████████████████████████████████████████████████▍                         | 62/90 [01:41<00:46,  1.65s/it]"
     ]
    },
    {
     "name": "stdout",
     "output_type": "stream",
     "text": [
      "FN 2527-5_70020.avi\n",
      "Swing-Bench\n",
      "ucf_sports_actions\\train\n",
      "FN ucf_sports_actions/ucf action/Swing-Bench/005/669-67178.avi\n"
     ]
    },
    {
     "name": "stderr",
     "output_type": "stream",
     "text": [
      "C:\\Users\\MACIEJ\\anaconda3\\lib\\site-packages\\urllib3\\connectionpool.py:1045: InsecureRequestWarning: Unverified HTTPS request is being made to host 'www.crcv.ucf.edu'. Adding certificate verification is strongly advised. See: https://urllib3.readthedocs.io/en/1.26.x/advanced-usage.html#ssl-warnings\n",
      "  warnings.warn(\n",
      " 70%|█████████████████████████████████████████████████████████▍                        | 63/90 [01:42<00:42,  1.58s/it]"
     ]
    },
    {
     "name": "stdout",
     "output_type": "stream",
     "text": [
      "FN 669-67178.avi\n",
      "Swing-Bench\n",
      "ucf_sports_actions\\train\n",
      "FN ucf_sports_actions/ucf action/Swing-Bench/002/669-60176.avi\n"
     ]
    },
    {
     "name": "stderr",
     "output_type": "stream",
     "text": [
      "C:\\Users\\MACIEJ\\anaconda3\\lib\\site-packages\\urllib3\\connectionpool.py:1045: InsecureRequestWarning: Unverified HTTPS request is being made to host 'www.crcv.ucf.edu'. Adding certificate verification is strongly advised. See: https://urllib3.readthedocs.io/en/1.26.x/advanced-usage.html#ssl-warnings\n",
      "  warnings.warn(\n",
      " 71%|██████████████████████████████████████████████████████████▎                       | 64/90 [01:44<00:44,  1.70s/it]"
     ]
    },
    {
     "name": "stdout",
     "output_type": "stream",
     "text": [
      "FN 669-60176.avi\n",
      "Swing-Bench\n",
      "ucf_sports_actions\\train\n",
      "FN ucf_sports_actions/ucf action/Swing-Bench/012/2527-12_70186.avi\n"
     ]
    },
    {
     "name": "stderr",
     "output_type": "stream",
     "text": [
      "C:\\Users\\MACIEJ\\anaconda3\\lib\\site-packages\\urllib3\\connectionpool.py:1045: InsecureRequestWarning: Unverified HTTPS request is being made to host 'www.crcv.ucf.edu'. Adding certificate verification is strongly advised. See: https://urllib3.readthedocs.io/en/1.26.x/advanced-usage.html#ssl-warnings\n",
      "  warnings.warn(\n",
      " 72%|███████████████████████████████████████████████████████████▏                      | 65/90 [01:46<00:41,  1.64s/it]"
     ]
    },
    {
     "name": "stdout",
     "output_type": "stream",
     "text": [
      "FN 2527-12_70186.avi\n",
      "Swing-Bench\n",
      "ucf_sports_actions\\train\n",
      "FN ucf_sports_actions/ucf action/Swing-Bench/020/4379-9_70018.avi\n"
     ]
    },
    {
     "name": "stderr",
     "output_type": "stream",
     "text": [
      "C:\\Users\\MACIEJ\\anaconda3\\lib\\site-packages\\urllib3\\connectionpool.py:1045: InsecureRequestWarning: Unverified HTTPS request is being made to host 'www.crcv.ucf.edu'. Adding certificate verification is strongly advised. See: https://urllib3.readthedocs.io/en/1.26.x/advanced-usage.html#ssl-warnings\n",
      "  warnings.warn(\n",
      " 73%|████████████████████████████████████████████████████████████▏                     | 66/90 [01:47<00:38,  1.59s/it]"
     ]
    },
    {
     "name": "stdout",
     "output_type": "stream",
     "text": [
      "FN 4379-9_70018.avi\n",
      "Swing-Bench\n",
      "ucf_sports_actions\\train\n",
      "FN ucf_sports_actions/ucf action/Swing-Bench/009/2527-9_70087.avi\n"
     ]
    },
    {
     "name": "stderr",
     "output_type": "stream",
     "text": [
      "C:\\Users\\MACIEJ\\anaconda3\\lib\\site-packages\\urllib3\\connectionpool.py:1045: InsecureRequestWarning: Unverified HTTPS request is being made to host 'www.crcv.ucf.edu'. Adding certificate verification is strongly advised. See: https://urllib3.readthedocs.io/en/1.26.x/advanced-usage.html#ssl-warnings\n",
      "  warnings.warn(\n",
      " 74%|█████████████████████████████████████████████████████████████                     | 67/90 [01:49<00:35,  1.57s/it]"
     ]
    },
    {
     "name": "stdout",
     "output_type": "stream",
     "text": [
      "FN 2527-9_70087.avi\n",
      "Swing-Bench\n",
      "ucf_sports_actions\\train\n",
      "FN ucf_sports_actions/ucf action/Swing-Bench/017/2527-12_70526.avi\n"
     ]
    },
    {
     "name": "stderr",
     "output_type": "stream",
     "text": [
      "C:\\Users\\MACIEJ\\anaconda3\\lib\\site-packages\\urllib3\\connectionpool.py:1045: InsecureRequestWarning: Unverified HTTPS request is being made to host 'www.crcv.ucf.edu'. Adding certificate verification is strongly advised. See: https://urllib3.readthedocs.io/en/1.26.x/advanced-usage.html#ssl-warnings\n",
      "  warnings.warn(\n",
      " 76%|█████████████████████████████████████████████████████████████▉                    | 68/90 [01:50<00:33,  1.54s/it]"
     ]
    },
    {
     "name": "stdout",
     "output_type": "stream",
     "text": [
      "FN 2527-12_70526.avi\n",
      "Swing-Bench\n",
      "ucf_sports_actions\\train\n",
      "FN ucf_sports_actions/ucf action/Swing-Bench/019/2527-12_70641.avi\n"
     ]
    },
    {
     "name": "stderr",
     "output_type": "stream",
     "text": [
      "C:\\Users\\MACIEJ\\anaconda3\\lib\\site-packages\\urllib3\\connectionpool.py:1045: InsecureRequestWarning: Unverified HTTPS request is being made to host 'www.crcv.ucf.edu'. Adding certificate verification is strongly advised. See: https://urllib3.readthedocs.io/en/1.26.x/advanced-usage.html#ssl-warnings\n",
      "  warnings.warn(\n",
      " 77%|██████████████████████████████████████████████████████████████▊                   | 69/90 [01:52<00:32,  1.54s/it]"
     ]
    },
    {
     "name": "stdout",
     "output_type": "stream",
     "text": [
      "FN 2527-12_70641.avi\n",
      "SwingAngle\n",
      "ucf_sports_actions\\train\n",
      "FN ucf_sports_actions/ucf action/Swing-SideAngle/009/vid1_0377.avi\n"
     ]
    },
    {
     "name": "stderr",
     "output_type": "stream",
     "text": [
      "C:\\Users\\MACIEJ\\anaconda3\\lib\\site-packages\\urllib3\\connectionpool.py:1045: InsecureRequestWarning: Unverified HTTPS request is being made to host 'www.crcv.ucf.edu'. Adding certificate verification is strongly advised. See: https://urllib3.readthedocs.io/en/1.26.x/advanced-usage.html#ssl-warnings\n",
      "  warnings.warn(\n",
      " 78%|███████████████████████████████████████████████████████████████▊                  | 70/90 [01:53<00:31,  1.56s/it]"
     ]
    },
    {
     "name": "stdout",
     "output_type": "stream",
     "text": [
      "FN vid1_0377.avi\n",
      "SwingAngle\n",
      "ucf_sports_actions\\train\n",
      "FN ucf_sports_actions/ucf action/Swing-SideAngle/011/vid1_0855.avi\n"
     ]
    },
    {
     "name": "stderr",
     "output_type": "stream",
     "text": [
      "C:\\Users\\MACIEJ\\anaconda3\\lib\\site-packages\\urllib3\\connectionpool.py:1045: InsecureRequestWarning: Unverified HTTPS request is being made to host 'www.crcv.ucf.edu'. Adding certificate verification is strongly advised. See: https://urllib3.readthedocs.io/en/1.26.x/advanced-usage.html#ssl-warnings\n",
      "  warnings.warn(\n",
      " 79%|████████████████████████████████████████████████████████████████▋                 | 71/90 [01:56<00:35,  1.86s/it]"
     ]
    },
    {
     "name": "stdout",
     "output_type": "stream",
     "text": [
      "FN vid1_0855.avi\n",
      "SwingAngle\n",
      "ucf_sports_actions\\train\n",
      "FN ucf_sports_actions/ucf action/Swing-SideAngle/004/vid6_214.avi\n"
     ]
    },
    {
     "name": "stderr",
     "output_type": "stream",
     "text": [
      "C:\\Users\\MACIEJ\\anaconda3\\lib\\site-packages\\urllib3\\connectionpool.py:1045: InsecureRequestWarning: Unverified HTTPS request is being made to host 'www.crcv.ucf.edu'. Adding certificate verification is strongly advised. See: https://urllib3.readthedocs.io/en/1.26.x/advanced-usage.html#ssl-warnings\n",
      "  warnings.warn(\n",
      " 80%|█████████████████████████████████████████████████████████████████▌                | 72/90 [01:58<00:32,  1.82s/it]"
     ]
    },
    {
     "name": "stdout",
     "output_type": "stream",
     "text": [
      "FN vid6_214.avi\n",
      "SwingAngle\n",
      "ucf_sports_actions\\train\n",
      "FN ucf_sports_actions/ucf action/Swing-SideAngle/003/vid6_025.avi\n"
     ]
    },
    {
     "name": "stderr",
     "output_type": "stream",
     "text": [
      "C:\\Users\\MACIEJ\\anaconda3\\lib\\site-packages\\urllib3\\connectionpool.py:1045: InsecureRequestWarning: Unverified HTTPS request is being made to host 'www.crcv.ucf.edu'. Adding certificate verification is strongly advised. See: https://urllib3.readthedocs.io/en/1.26.x/advanced-usage.html#ssl-warnings\n",
      "  warnings.warn(\n",
      " 81%|██████████████████████████████████████████████████████████████████▌               | 73/90 [01:59<00:26,  1.58s/it]"
     ]
    },
    {
     "name": "stdout",
     "output_type": "stream",
     "text": [
      "FN vid6_025.avi\n",
      "SwingAngle\n",
      "ucf_sports_actions\\train\n",
      "FN ucf_sports_actions/ucf action/Swing-SideAngle/008/vid1_0302.avi\n"
     ]
    },
    {
     "name": "stderr",
     "output_type": "stream",
     "text": [
      "C:\\Users\\MACIEJ\\anaconda3\\lib\\site-packages\\urllib3\\connectionpool.py:1045: InsecureRequestWarning: Unverified HTTPS request is being made to host 'www.crcv.ucf.edu'. Adding certificate verification is strongly advised. See: https://urllib3.readthedocs.io/en/1.26.x/advanced-usage.html#ssl-warnings\n",
      "  warnings.warn(\n",
      " 82%|███████████████████████████████████████████████████████████████████▍              | 74/90 [02:00<00:24,  1.55s/it]"
     ]
    },
    {
     "name": "stdout",
     "output_type": "stream",
     "text": [
      "FN vid1_0302.avi\n",
      "SwingAngle\n",
      "ucf_sports_actions\\train\n",
      "FN ucf_sports_actions/ucf action/Swing-SideAngle/012/vid5_000.avi\n"
     ]
    },
    {
     "name": "stderr",
     "output_type": "stream",
     "text": [
      "C:\\Users\\MACIEJ\\anaconda3\\lib\\site-packages\\urllib3\\connectionpool.py:1045: InsecureRequestWarning: Unverified HTTPS request is being made to host 'www.crcv.ucf.edu'. Adding certificate verification is strongly advised. See: https://urllib3.readthedocs.io/en/1.26.x/advanced-usage.html#ssl-warnings\n",
      "  warnings.warn(\n",
      " 83%|████████████████████████████████████████████████████████████████████▎             | 75/90 [02:02<00:25,  1.68s/it]"
     ]
    },
    {
     "name": "stdout",
     "output_type": "stream",
     "text": [
      "FN vid5_000.avi\n",
      "SwingAngle\n",
      "ucf_sports_actions\\train\n",
      "FN ucf_sports_actions/ucf action/Swing-SideAngle/010/vid1_0674.avi\n"
     ]
    },
    {
     "name": "stderr",
     "output_type": "stream",
     "text": [
      "C:\\Users\\MACIEJ\\anaconda3\\lib\\site-packages\\urllib3\\connectionpool.py:1045: InsecureRequestWarning: Unverified HTTPS request is being made to host 'www.crcv.ucf.edu'. Adding certificate verification is strongly advised. See: https://urllib3.readthedocs.io/en/1.26.x/advanced-usage.html#ssl-warnings\n",
      "  warnings.warn(\n",
      " 84%|█████████████████████████████████████████████████████████████████████▏            | 76/90 [02:04<00:25,  1.85s/it]"
     ]
    },
    {
     "name": "stdout",
     "output_type": "stream",
     "text": [
      "FN vid1_0674.avi\n",
      "SwingAngle\n",
      "ucf_sports_actions\\train\n",
      "FN ucf_sports_actions/ucf action/Swing-SideAngle/005/vid8_0500.avi\n"
     ]
    },
    {
     "name": "stderr",
     "output_type": "stream",
     "text": [
      "C:\\Users\\MACIEJ\\anaconda3\\lib\\site-packages\\urllib3\\connectionpool.py:1045: InsecureRequestWarning: Unverified HTTPS request is being made to host 'www.crcv.ucf.edu'. Adding certificate verification is strongly advised. See: https://urllib3.readthedocs.io/en/1.26.x/advanced-usage.html#ssl-warnings\n",
      "  warnings.warn(\n",
      " 86%|██████████████████████████████████████████████████████████████████████▏           | 77/90 [02:05<00:20,  1.59s/it]"
     ]
    },
    {
     "name": "stdout",
     "output_type": "stream",
     "text": [
      "FN vid8_0500.avi\n",
      "Walk\n",
      "ucf_sports_actions\\train\n",
      "FN ucf_sports_actions/ucf action/Walk-Front/010/RF1-18075_70140.avi\n"
     ]
    },
    {
     "name": "stderr",
     "output_type": "stream",
     "text": [
      "C:\\Users\\MACIEJ\\anaconda3\\lib\\site-packages\\urllib3\\connectionpool.py:1045: InsecureRequestWarning: Unverified HTTPS request is being made to host 'www.crcv.ucf.edu'. Adding certificate verification is strongly advised. See: https://urllib3.readthedocs.io/en/1.26.x/advanced-usage.html#ssl-warnings\n",
      "  warnings.warn(\n",
      " 87%|███████████████████████████████████████████████████████████████████████           | 78/90 [02:08<00:21,  1.82s/it]"
     ]
    },
    {
     "name": "stdout",
     "output_type": "stream",
     "text": [
      "FN RF1-18075_70140.avi\n",
      "Walk\n",
      "ucf_sports_actions\\train\n",
      "FN ucf_sports_actions/ucf action/Walk-Front/002/5561-7_70102.avi\n"
     ]
    },
    {
     "name": "stderr",
     "output_type": "stream",
     "text": [
      "C:\\Users\\MACIEJ\\anaconda3\\lib\\site-packages\\urllib3\\connectionpool.py:1045: InsecureRequestWarning: Unverified HTTPS request is being made to host 'www.crcv.ucf.edu'. Adding certificate verification is strongly advised. See: https://urllib3.readthedocs.io/en/1.26.x/advanced-usage.html#ssl-warnings\n",
      "  warnings.warn(\n",
      " 88%|███████████████████████████████████████████████████████████████████████▉          | 79/90 [02:10<00:20,  1.86s/it]"
     ]
    },
    {
     "name": "stdout",
     "output_type": "stream",
     "text": [
      "FN 5561-7_70102.avi\n",
      "Walk\n",
      "ucf_sports_actions\\train\n",
      "FN ucf_sports_actions/ucf action/Walk-Front/005/RF1-11529_70033.avi\n"
     ]
    },
    {
     "name": "stderr",
     "output_type": "stream",
     "text": [
      "C:\\Users\\MACIEJ\\anaconda3\\lib\\site-packages\\urllib3\\connectionpool.py:1045: InsecureRequestWarning: Unverified HTTPS request is being made to host 'www.crcv.ucf.edu'. Adding certificate verification is strongly advised. See: https://urllib3.readthedocs.io/en/1.26.x/advanced-usage.html#ssl-warnings\n",
      "  warnings.warn(\n",
      " 89%|████████████████████████████████████████████████████████████████████████▉         | 80/90 [02:12<00:19,  1.91s/it]"
     ]
    },
    {
     "name": "stdout",
     "output_type": "stream",
     "text": [
      "FN RF1-11529_70033.avi\n",
      "Walk\n",
      "ucf_sports_actions\\train\n",
      "FN ucf_sports_actions/ucf action/Walk-Front/016/RF1-18566_700560.avi\n"
     ]
    },
    {
     "name": "stderr",
     "output_type": "stream",
     "text": [
      "C:\\Users\\MACIEJ\\anaconda3\\lib\\site-packages\\urllib3\\connectionpool.py:1045: InsecureRequestWarning: Unverified HTTPS request is being made to host 'www.crcv.ucf.edu'. Adding certificate verification is strongly advised. See: https://urllib3.readthedocs.io/en/1.26.x/advanced-usage.html#ssl-warnings\n",
      "  warnings.warn(\n",
      " 90%|█████████████████████████████████████████████████████████████████████████▊        | 81/90 [02:13<00:16,  1.88s/it]"
     ]
    },
    {
     "name": "stdout",
     "output_type": "stream",
     "text": [
      "FN RF1-18566_700560.avi\n",
      "Walk\n",
      "ucf_sports_actions\\train\n",
      "FN ucf_sports_actions/ucf action/Walk-Front/015/RF1-18566_700411.avi\n"
     ]
    },
    {
     "name": "stderr",
     "output_type": "stream",
     "text": [
      "C:\\Users\\MACIEJ\\anaconda3\\lib\\site-packages\\urllib3\\connectionpool.py:1045: InsecureRequestWarning: Unverified HTTPS request is being made to host 'www.crcv.ucf.edu'. Adding certificate verification is strongly advised. See: https://urllib3.readthedocs.io/en/1.26.x/advanced-usage.html#ssl-warnings\n",
      "  warnings.warn(\n",
      " 91%|██████████████████████████████████████████████████████████████████████████▋       | 82/90 [02:15<00:14,  1.77s/it]"
     ]
    },
    {
     "name": "stdout",
     "output_type": "stream",
     "text": [
      "FN RF1-18566_700411.avi\n",
      "Walk\n",
      "ucf_sports_actions\\train\n",
      "FN ucf_sports_actions/ucf action/Walk-Front/004/RF1-10799_70080.avi\n"
     ]
    },
    {
     "name": "stderr",
     "output_type": "stream",
     "text": [
      "C:\\Users\\MACIEJ\\anaconda3\\lib\\site-packages\\urllib3\\connectionpool.py:1045: InsecureRequestWarning: Unverified HTTPS request is being made to host 'www.crcv.ucf.edu'. Adding certificate verification is strongly advised. See: https://urllib3.readthedocs.io/en/1.26.x/advanced-usage.html#ssl-warnings\n",
      "  warnings.warn(\n",
      " 92%|███████████████████████████████████████████████████████████████████████████▌      | 83/90 [02:17<00:12,  1.77s/it]"
     ]
    },
    {
     "name": "stdout",
     "output_type": "stream",
     "text": [
      "FN RF1-10799_70080.avi\n",
      "Walk\n",
      "ucf_sports_actions\\train\n",
      "FN ucf_sports_actions/ucf action/Walk-Front/009/RF1-15341_70050.avi\n"
     ]
    },
    {
     "name": "stderr",
     "output_type": "stream",
     "text": [
      "C:\\Users\\MACIEJ\\anaconda3\\lib\\site-packages\\urllib3\\connectionpool.py:1045: InsecureRequestWarning: Unverified HTTPS request is being made to host 'www.crcv.ucf.edu'. Adding certificate verification is strongly advised. See: https://urllib3.readthedocs.io/en/1.26.x/advanced-usage.html#ssl-warnings\n",
      "  warnings.warn(\n",
      " 93%|████████████████████████████████████████████████████████████████████████████▌     | 84/90 [02:18<00:10,  1.73s/it]"
     ]
    },
    {
     "name": "stdout",
     "output_type": "stream",
     "text": [
      "FN RF1-15341_70050.avi\n",
      "Walk\n",
      "ucf_sports_actions\\train\n",
      "FN ucf_sports_actions/ucf action/Walk-Front/011/RF1-18085_70010.avi\n"
     ]
    },
    {
     "name": "stderr",
     "output_type": "stream",
     "text": [
      "C:\\Users\\MACIEJ\\anaconda3\\lib\\site-packages\\urllib3\\connectionpool.py:1045: InsecureRequestWarning: Unverified HTTPS request is being made to host 'www.crcv.ucf.edu'. Adding certificate verification is strongly advised. See: https://urllib3.readthedocs.io/en/1.26.x/advanced-usage.html#ssl-warnings\n",
      "  warnings.warn(\n",
      " 94%|█████████████████████████████████████████████████████████████████████████████▍    | 85/90 [02:20<00:08,  1.71s/it]"
     ]
    },
    {
     "name": "stdout",
     "output_type": "stream",
     "text": [
      "FN RF1-18085_70010.avi\n",
      "Walk\n",
      "ucf_sports_actions\\train\n",
      "FN ucf_sports_actions/ucf action/Walk-Front/007/RF1-14377_70025.avi\n"
     ]
    },
    {
     "name": "stderr",
     "output_type": "stream",
     "text": [
      "C:\\Users\\MACIEJ\\anaconda3\\lib\\site-packages\\urllib3\\connectionpool.py:1045: InsecureRequestWarning: Unverified HTTPS request is being made to host 'www.crcv.ucf.edu'. Adding certificate verification is strongly advised. See: https://urllib3.readthedocs.io/en/1.26.x/advanced-usage.html#ssl-warnings\n",
      "  warnings.warn(\n",
      " 96%|██████████████████████████████████████████████████████████████████████████████▎   | 86/90 [02:22<00:06,  1.68s/it]"
     ]
    },
    {
     "name": "stdout",
     "output_type": "stream",
     "text": [
      "FN RF1-14377_70025.avi\n",
      "Walk\n",
      "ucf_sports_actions\\train\n",
      "FN ucf_sports_actions/ucf action/Walk-Front/022/7608-3_70626.avi\n"
     ]
    },
    {
     "name": "stderr",
     "output_type": "stream",
     "text": [
      "C:\\Users\\MACIEJ\\anaconda3\\lib\\site-packages\\urllib3\\connectionpool.py:1045: InsecureRequestWarning: Unverified HTTPS request is being made to host 'www.crcv.ucf.edu'. Adding certificate verification is strongly advised. See: https://urllib3.readthedocs.io/en/1.26.x/advanced-usage.html#ssl-warnings\n",
      "  warnings.warn(\n",
      " 97%|███████████████████████████████████████████████████████████████████████████████▎  | 87/90 [02:23<00:05,  1.68s/it]"
     ]
    },
    {
     "name": "stdout",
     "output_type": "stream",
     "text": [
      "FN 7608-3_70626.avi\n",
      "Walk\n",
      "ucf_sports_actions\\train\n",
      "FN ucf_sports_actions/ucf action/Walk-Front/019/RF1-18602_70140.avi\n"
     ]
    },
    {
     "name": "stderr",
     "output_type": "stream",
     "text": [
      "C:\\Users\\MACIEJ\\anaconda3\\lib\\site-packages\\urllib3\\connectionpool.py:1045: InsecureRequestWarning: Unverified HTTPS request is being made to host 'www.crcv.ucf.edu'. Adding certificate verification is strongly advised. See: https://urllib3.readthedocs.io/en/1.26.x/advanced-usage.html#ssl-warnings\n",
      "  warnings.warn(\n",
      " 98%|████████████████████████████████████████████████████████████████████████████████▏ | 88/90 [02:25<00:03,  1.72s/it]"
     ]
    },
    {
     "name": "stdout",
     "output_type": "stream",
     "text": [
      "FN RF1-18602_70140.avi\n",
      "Walk\n",
      "ucf_sports_actions\\train\n",
      "FN ucf_sports_actions/ucf action/Walk-Front/003/RF1-10578_70285.avi\n"
     ]
    },
    {
     "name": "stderr",
     "output_type": "stream",
     "text": [
      "C:\\Users\\MACIEJ\\anaconda3\\lib\\site-packages\\urllib3\\connectionpool.py:1045: InsecureRequestWarning: Unverified HTTPS request is being made to host 'www.crcv.ucf.edu'. Adding certificate verification is strongly advised. See: https://urllib3.readthedocs.io/en/1.26.x/advanced-usage.html#ssl-warnings\n",
      "  warnings.warn(\n",
      " 99%|█████████████████████████████████████████████████████████████████████████████████ | 89/90 [02:27<00:01,  1.71s/it]"
     ]
    },
    {
     "name": "stdout",
     "output_type": "stream",
     "text": [
      "FN RF1-10578_70285.avi\n",
      "Walk\n",
      "ucf_sports_actions\\train\n",
      "FN ucf_sports_actions/ucf action/Walk-Front/001/3206-12_70000.avi\n"
     ]
    },
    {
     "name": "stderr",
     "output_type": "stream",
     "text": [
      "C:\\Users\\MACIEJ\\anaconda3\\lib\\site-packages\\urllib3\\connectionpool.py:1045: InsecureRequestWarning: Unverified HTTPS request is being made to host 'www.crcv.ucf.edu'. Adding certificate verification is strongly advised. See: https://urllib3.readthedocs.io/en/1.26.x/advanced-usage.html#ssl-warnings\n",
      "  warnings.warn(\n",
      "100%|██████████████████████████████████████████████████████████████████████████████████| 90/90 [02:29<00:00,  1.66s/it]"
     ]
    },
    {
     "name": "stdout",
     "output_type": "stream",
     "text": [
      "FN 3206-12_70000.avi\n"
     ]
    },
    {
     "name": "stderr",
     "output_type": "stream",
     "text": [
      "\n"
     ]
    }
   ],
   "source": [
    "download_dir = pathlib.Path('./ucf_sports_actions/')\n",
    "subset_paths = download_ucf_subset(URL,\n",
    "                                       num_classes = NUM_CLASSES,\n",
    "                                      #splits = {\"train\": 30, \"val\": 10, \"test\": 10},\n",
    "                                     # splits = { \"val\": 2, \"test\": 1,\"train\": 20},\n",
    "                                      splits = { \"val\": 0.30, \"test\": 0.1, \"train\": 1},\n",
    "                                       download_dir = download_dir)"
   ]
  },
  {
   "cell_type": "code",
   "execution_count": 19,
   "metadata": {
    "execution": {
     "iopub.execute_input": "2023-01-07T02:25:53.081081Z",
     "iopub.status.busy": "2023-01-07T02:25:53.080501Z",
     "iopub.status.idle": "2023-01-07T02:25:53.086867Z",
     "shell.execute_reply": "2023-01-07T02:25:53.086243Z"
    },
    "id": "zupvOLYP4D4q"
   },
   "outputs": [
    {
     "name": "stdout",
     "output_type": "stream",
     "text": [
      "90 44 9\n",
      "Total videos: 143\n"
     ]
    }
   ],
   "source": [
    "video_count_train = len(list(download_dir.glob('train/*/*.avi')))\n",
    "video_count_val = len(list(download_dir.glob('val/*/*.avi')))\n",
    "video_count_test = len(list(download_dir.glob('test/*/*.avi')))\n",
    "\n",
    "video_total = video_count_train + video_count_val + video_count_test\n",
    "print(video_count_train, video_count_val, video_count_test)\n",
    "print(f\"Total videos: {video_total}\")"
   ]
  },
  {
   "cell_type": "code",
   "execution_count": 20,
   "metadata": {
    "execution": {
     "iopub.execute_input": "2023-01-07T02:25:53.090251Z",
     "iopub.status.busy": "2023-01-07T02:25:53.089815Z",
     "iopub.status.idle": "2023-01-07T02:25:53.219244Z",
     "shell.execute_reply": "2023-01-07T02:25:53.218521Z"
    },
    "id": "y9be0WlDiNM0"
   },
   "outputs": [
    {
     "name": "stderr",
     "output_type": "stream",
     "text": [
      "FIND: Parameter format not correct\n"
     ]
    }
   ],
   "source": [
    "!find ./ucf_sports_actions"
   ]
  },
  {
   "cell_type": "code",
   "execution_count": 21,
   "metadata": {
    "execution": {
     "iopub.execute_input": "2023-01-07T02:25:53.223252Z",
     "iopub.status.busy": "2023-01-07T02:25:53.223009Z",
     "iopub.status.idle": "2023-01-07T02:25:53.227045Z",
     "shell.execute_reply": "2023-01-07T02:25:53.226442Z"
    },
    "id": "vNBCiV3bMzpD"
   },
   "outputs": [],
   "source": [
    "def format_frames(frame, output_size):\n",
    "\n",
    "  frame = tf.image.convert_image_dtype(frame, tf.float32)\n",
    "  frame = tf.image.resize_with_pad(frame, *output_size)\n",
    "  return frame"
   ]
  },
  {
   "cell_type": "code",
   "execution_count": 22,
   "metadata": {
    "execution": {
     "iopub.execute_input": "2023-01-07T02:25:53.230322Z",
     "iopub.status.busy": "2023-01-07T02:25:53.229782Z",
     "iopub.status.idle": "2023-01-07T02:25:53.235610Z",
     "shell.execute_reply": "2023-01-07T02:25:53.235072Z"
    },
    "id": "9ujLDC9G7JyE"
   },
   "outputs": [],
   "source": [
    "def frames_from_video_file(video_path, n_frames, output_size = (360,360), frame_step = 5):\n",
    "\n",
    "  result = []\n",
    "  src = cv2.VideoCapture(str(video_path))  \n",
    "\n",
    "  video_length = src.get(cv2.CAP_PROP_FRAME_COUNT)\n",
    "\n",
    "  need_length = 1 + (n_frames - 1) * frame_step\n",
    "\n",
    "  if need_length > video_length:\n",
    "    start = 0\n",
    "  else:\n",
    "    max_start = video_length - need_length\n",
    "    start = random.randint(0, max_start + 1)\n",
    "\n",
    "  src.set(cv2.CAP_PROP_POS_FRAMES, start)\n",
    "\n",
    "  ret, frame = src.read()\n",
    "  result.append(format_frames(frame, output_size))\n",
    "\n",
    "  for _ in range(n_frames - 1):\n",
    "    for _ in range(frame_step):\n",
    "      ret, frame = src.read()\n",
    "    if ret:\n",
    "      frame = format_frames(frame, output_size)\n",
    "      result.append(frame)\n",
    "    else:\n",
    "      result.append(np.zeros_like(result[0]))\n",
    "  src.release()\n",
    "  result = np.array(result)[..., [2, 1, 0]]\n",
    "\n",
    "  return result"
   ]
  },
  {
   "cell_type": "code",
   "execution_count": 25,
   "metadata": {
    "execution": {
     "iopub.execute_input": "2023-01-07T02:25:59.595161Z",
     "iopub.status.busy": "2023-01-07T02:25:59.594676Z",
     "iopub.status.idle": "2023-01-07T02:25:59.600720Z",
     "shell.execute_reply": "2023-01-07T02:25:59.600103Z"
    },
    "id": "MVmfLTlw7Ues"
   },
   "outputs": [],
   "source": [
    "class FrameGenerator:\n",
    "  def __init__(self, path, n_frames, training = False):\n",
    "\n",
    "    self.path = path\n",
    "    self.n_frames = n_frames\n",
    "    self.training = training\n",
    "    self.class_names = sorted(set(p.name for p in self.path.iterdir() if p.is_dir()))\n",
    "    self.class_ids_for_name = dict((name, idx) for idx, name in enumerate(self.class_names))\n",
    "\n",
    "  def get_files_and_class_names(self):\n",
    "    video_paths = list(self.path.glob('*/*.avi'))\n",
    "    classes = [p.parent.name for p in video_paths] \n",
    "    return video_paths, classes\n",
    "\n",
    "  def __call__(self):\n",
    "    video_paths, classes = self.get_files_and_class_names()\n",
    "\n",
    "    pairs = list(zip(video_paths, classes))\n",
    "\n",
    "    if self.training:\n",
    "      random.shuffle(pairs)\n",
    "\n",
    "    for path, name in pairs:\n",
    "      video_frames = frames_from_video_file(path, self.n_frames) \n",
    "      label = self.class_ids_for_name[name] # Encode labels\n",
    "      yield video_frames, label"
   ]
  },
  {
   "cell_type": "code",
   "execution_count": 26,
   "metadata": {
    "execution": {
     "iopub.execute_input": "2023-01-07T02:25:59.603817Z",
     "iopub.status.busy": "2023-01-07T02:25:59.603363Z",
     "iopub.status.idle": "2023-01-07T02:25:59.681927Z",
     "shell.execute_reply": "2023-01-07T02:25:59.681243Z"
    },
    "id": "P5jwagZxzxOf"
   },
   "outputs": [
    {
     "name": "stdout",
     "output_type": "stream",
     "text": [
      "Shape: (10, 360, 360, 3)\n",
      "Label: 4\n"
     ]
    }
   ],
   "source": [
    "fg = FrameGenerator(subset_paths['train'], len(classes), training=True)\n",
    "\n",
    "frames, label = next(fg())\n",
    "\n",
    "print(f\"Shape: {frames.shape}\")\n",
    "print(f\"Label: {label}\")"
   ]
  },
  {
   "cell_type": "code",
   "execution_count": 27,
   "metadata": {
    "execution": {
     "iopub.execute_input": "2023-01-07T02:25:59.685183Z",
     "iopub.status.busy": "2023-01-07T02:25:59.684722Z",
     "iopub.status.idle": "2023-01-07T02:25:59.716135Z",
     "shell.execute_reply": "2023-01-07T02:25:59.715546Z"
    },
    "id": "HM4NboJr7ck4"
   },
   "outputs": [],
   "source": [
    "# Create the training set\n",
    "output_signature = (tf.TensorSpec(shape = (None, None, None, 3), dtype = tf.float32),\n",
    "                    tf.TensorSpec(shape = (), dtype = tf.int16))\n",
    "train_ds = tf.data.Dataset.from_generator(FrameGenerator(subset_paths['train'], len(classes), training=True),\n",
    "                                          output_signature = output_signature)"
   ]
  },
  {
   "cell_type": "code",
   "execution_count": 28,
   "metadata": {
    "execution": {
     "iopub.execute_input": "2023-01-07T02:25:59.719840Z",
     "iopub.status.busy": "2023-01-07T02:25:59.719234Z",
     "iopub.status.idle": "2023-01-07T02:26:00.598566Z",
     "shell.execute_reply": "2023-01-07T02:26:00.597794Z"
    },
    "id": "3XYVmsgiZsJD"
   },
   "outputs": [
    {
     "name": "stdout",
     "output_type": "stream",
     "text": [
      "tf.Tensor(3, shape=(), dtype=int16)\n",
      "tf.Tensor(2, shape=(), dtype=int16)\n",
      "tf.Tensor(2, shape=(), dtype=int16)\n",
      "tf.Tensor(3, shape=(), dtype=int16)\n",
      "tf.Tensor(0, shape=(), dtype=int16)\n",
      "tf.Tensor(7, shape=(), dtype=int16)\n",
      "tf.Tensor(1, shape=(), dtype=int16)\n",
      "tf.Tensor(6, shape=(), dtype=int16)\n",
      "tf.Tensor(9, shape=(), dtype=int16)\n",
      "tf.Tensor(1, shape=(), dtype=int16)\n"
     ]
    }
   ],
   "source": [
    "for frames, labels in train_ds.take(len(classes)):\n",
    "  print(labels)"
   ]
  },
  {
   "cell_type": "code",
   "execution_count": 29,
   "metadata": {
    "execution": {
     "iopub.execute_input": "2023-01-07T02:26:00.602125Z",
     "iopub.status.busy": "2023-01-07T02:26:00.601581Z",
     "iopub.status.idle": "2023-01-07T02:26:00.625172Z",
     "shell.execute_reply": "2023-01-07T02:26:00.624576Z"
    },
    "id": "Pi8-WkOkEXw5"
   },
   "outputs": [],
   "source": [
    "# Create the validation set\n",
    "val_ds = tf.data.Dataset.from_generator(FrameGenerator(subset_paths['val'], len(classes)),\n",
    "                                        output_signature = output_signature)"
   ]
  },
  {
   "cell_type": "code",
   "execution_count": 30,
   "metadata": {},
   "outputs": [
    {
     "name": "stdout",
     "output_type": "stream",
     "text": [
      "tf.Tensor(0, shape=(), dtype=int16)\n",
      "tf.Tensor(0, shape=(), dtype=int16)\n",
      "tf.Tensor(1, shape=(), dtype=int16)\n",
      "tf.Tensor(1, shape=(), dtype=int16)\n",
      "tf.Tensor(1, shape=(), dtype=int16)\n",
      "tf.Tensor(1, shape=(), dtype=int16)\n",
      "tf.Tensor(1, shape=(), dtype=int16)\n",
      "tf.Tensor(2, shape=(), dtype=int16)\n",
      "tf.Tensor(2, shape=(), dtype=int16)\n",
      "tf.Tensor(2, shape=(), dtype=int16)\n"
     ]
    }
   ],
   "source": [
    "for frames, labels in val_ds.take(len(classes)):\n",
    "  print(labels)"
   ]
  },
  {
   "cell_type": "code",
   "execution_count": 31,
   "metadata": {
    "execution": {
     "iopub.execute_input": "2023-01-07T02:26:00.628590Z",
     "iopub.status.busy": "2023-01-07T02:26:00.627990Z",
     "iopub.status.idle": "2023-01-07T02:26:01.172088Z",
     "shell.execute_reply": "2023-01-07T02:26:01.171417Z"
    },
    "id": "V6qXc-6i7eyK"
   },
   "outputs": [
    {
     "name": "stdout",
     "output_type": "stream",
     "text": [
      "Shape of training set of frames: (10, 360, 360, 3)\n",
      "Shape of training labels: ()\n",
      "Shape of validation set of frames: (10, 360, 360, 3)\n",
      "Shape of validation labels: ()\n"
     ]
    }
   ],
   "source": [
    "# Print the shapes of the data\n",
    "train_frames, train_labels = next(iter(train_ds))\n",
    "print(f'Shape of training set of frames: {train_frames.shape}')\n",
    "print(f'Shape of training labels: {train_labels.shape}')\n",
    "\n",
    "val_frames, val_labels = next(iter(val_ds))\n",
    "print(f'Shape of validation set of frames: {val_frames.shape}')\n",
    "print(f'Shape of validation labels: {val_labels.shape}')"
   ]
  },
  {
   "cell_type": "code",
   "execution_count": 32,
   "metadata": {
    "execution": {
     "iopub.execute_input": "2023-01-07T02:26:01.175977Z",
     "iopub.status.busy": "2023-01-07T02:26:01.175398Z",
     "iopub.status.idle": "2023-01-07T02:26:01.187532Z",
     "shell.execute_reply": "2023-01-07T02:26:01.186888Z"
    },
    "id": "QSxjFtxAvY3_"
   },
   "outputs": [],
   "source": [
    "AUTOTUNE = tf.data.AUTOTUNE\n",
    "\n",
    "train_ds = train_ds.cache().shuffle(1000).prefetch(buffer_size = AUTOTUNE)\n",
    "val_ds = val_ds.cache().shuffle(1000).prefetch(buffer_size = AUTOTUNE)"
   ]
  },
  {
   "cell_type": "code",
   "execution_count": 33,
   "metadata": {},
   "outputs": [],
   "source": [
    "train_ds = train_ds.batch(32)\n",
    "val_ds = val_ds.batch(32)"
   ]
  },
  {
   "cell_type": "code",
   "execution_count": 34,
   "metadata": {
    "execution": {
     "iopub.execute_input": "2023-01-07T02:26:01.190867Z",
     "iopub.status.busy": "2023-01-07T02:26:01.190259Z",
     "iopub.status.idle": "2023-01-07T02:26:38.272583Z",
     "shell.execute_reply": "2023-01-07T02:26:38.271905Z"
    },
    "id": "pp2Qc6XSFmeB"
   },
   "outputs": [
    {
     "name": "stdout",
     "output_type": "stream",
     "text": [
      "Shape of training set of frames: (32, 10, 360, 360, 3)\n",
      "Shape of training labels: (32,)\n",
      "Shape of validation set of frames: (32, 10, 360, 360, 3)\n",
      "Shape of validation labels: (32,)\n"
     ]
    }
   ],
   "source": [
    "\n",
    "train_frames, train_labels = next(iter(train_ds))\n",
    "print(f'Shape of training set of frames: {train_frames.shape}')\n",
    "print(f'Shape of training labels: {train_labels.shape}')\n",
    "\n",
    "val_frames, val_labels = next(iter(val_ds))\n",
    "print(f'Shape of validation set of frames: {val_frames.shape}')\n",
    "print(f'Shape of validation labels: {val_labels.shape}')"
   ]
  },
  {
   "cell_type": "code",
   "execution_count": 35,
   "metadata": {
    "execution": {
     "iopub.execute_input": "2023-01-07T02:26:38.276159Z",
     "iopub.status.busy": "2023-01-07T02:26:38.275921Z",
     "iopub.status.idle": "2023-01-07T02:27:48.049872Z",
     "shell.execute_reply": "2023-01-07T02:27:48.049102Z"
    },
    "id": "qzqgPBUuForj"
   },
   "outputs": [
    {
     "name": "stdout",
     "output_type": "stream",
     "text": [
      "Epoch 1/60\n",
      "3/3 [==============================] - 26s 4s/step - loss: 2.3478 - accuracy: 0.1444 - val_loss: 2.1550 - val_accuracy: 0.2273\n",
      "Epoch 2/60\n",
      "3/3 [==============================] - 5s 2s/step - loss: 2.0266 - accuracy: 0.3556 - val_loss: 1.8852 - val_accuracy: 0.4773\n",
      "Epoch 3/60\n",
      "3/3 [==============================] - 5s 2s/step - loss: 1.7664 - accuracy: 0.5778 - val_loss: 1.6750 - val_accuracy: 0.6364\n",
      "Epoch 4/60\n",
      "3/3 [==============================] - 5s 2s/step - loss: 1.5682 - accuracy: 0.7000 - val_loss: 1.5043 - val_accuracy: 0.6364\n",
      "Epoch 5/60\n",
      "3/3 [==============================] - 5s 2s/step - loss: 1.4113 - accuracy: 0.7111 - val_loss: 1.3647 - val_accuracy: 0.6364\n",
      "Epoch 6/60\n",
      "3/3 [==============================] - 5s 2s/step - loss: 1.2627 - accuracy: 0.7000 - val_loss: 1.2454 - val_accuracy: 0.6364\n",
      "Epoch 7/60\n",
      "3/3 [==============================] - 5s 2s/step - loss: 1.1283 - accuracy: 0.7667 - val_loss: 1.1422 - val_accuracy: 0.7273\n",
      "Epoch 8/60\n",
      "3/3 [==============================] - 5s 2s/step - loss: 1.0289 - accuracy: 0.7778 - val_loss: 1.0525 - val_accuracy: 0.7500\n",
      "Epoch 9/60\n",
      "3/3 [==============================] - 5s 2s/step - loss: 0.9294 - accuracy: 0.8333 - val_loss: 0.9797 - val_accuracy: 0.7500\n",
      "Epoch 10/60\n",
      "3/3 [==============================] - 5s 2s/step - loss: 0.8542 - accuracy: 0.8444 - val_loss: 0.9207 - val_accuracy: 0.7727\n",
      "Epoch 11/60\n",
      "3/3 [==============================] - 5s 2s/step - loss: 0.7848 - accuracy: 0.8556 - val_loss: 0.8682 - val_accuracy: 0.7955\n",
      "Epoch 12/60\n",
      "3/3 [==============================] - 5s 2s/step - loss: 0.7265 - accuracy: 0.8778 - val_loss: 0.8256 - val_accuracy: 0.8182\n",
      "Epoch 13/60\n",
      "3/3 [==============================] - 5s 2s/step - loss: 0.6851 - accuracy: 0.8778 - val_loss: 0.7888 - val_accuracy: 0.8182\n",
      "Epoch 14/60\n",
      "3/3 [==============================] - 5s 2s/step - loss: 0.6379 - accuracy: 0.8778 - val_loss: 0.7610 - val_accuracy: 0.8182\n",
      "Epoch 15/60\n",
      "3/3 [==============================] - 5s 2s/step - loss: 0.6053 - accuracy: 0.8778 - val_loss: 0.7386 - val_accuracy: 0.8182\n",
      "Epoch 16/60\n",
      "3/3 [==============================] - 5s 2s/step - loss: 0.5751 - accuracy: 0.8778 - val_loss: 0.7192 - val_accuracy: 0.8182\n",
      "Epoch 17/60\n",
      "3/3 [==============================] - 5s 2s/step - loss: 0.5421 - accuracy: 0.8889 - val_loss: 0.7030 - val_accuracy: 0.8182\n",
      "Epoch 18/60\n",
      "3/3 [==============================] - 5s 2s/step - loss: 0.5128 - accuracy: 0.8889 - val_loss: 0.6897 - val_accuracy: 0.8182\n",
      "Epoch 19/60\n",
      "3/3 [==============================] - 5s 2s/step - loss: 0.4879 - accuracy: 0.8778 - val_loss: 0.6757 - val_accuracy: 0.8182\n",
      "Epoch 20/60\n",
      "3/3 [==============================] - 5s 2s/step - loss: 0.4679 - accuracy: 0.9000 - val_loss: 0.6620 - val_accuracy: 0.8182\n",
      "Epoch 21/60\n",
      "3/3 [==============================] - 5s 2s/step - loss: 0.4477 - accuracy: 0.9111 - val_loss: 0.6518 - val_accuracy: 0.8182\n",
      "Epoch 22/60\n",
      "3/3 [==============================] - 5s 2s/step - loss: 0.4287 - accuracy: 0.9111 - val_loss: 0.6424 - val_accuracy: 0.8182\n",
      "Epoch 23/60\n",
      "3/3 [==============================] - 5s 2s/step - loss: 0.4178 - accuracy: 0.9111 - val_loss: 0.6343 - val_accuracy: 0.8182\n",
      "Epoch 24/60\n",
      "3/3 [==============================] - 5s 2s/step - loss: 0.3958 - accuracy: 0.9222 - val_loss: 0.6293 - val_accuracy: 0.8182\n",
      "Epoch 25/60\n",
      "3/3 [==============================] - 5s 2s/step - loss: 0.3844 - accuracy: 0.9222 - val_loss: 0.6223 - val_accuracy: 0.8182\n",
      "Epoch 26/60\n",
      "3/3 [==============================] - 5s 2s/step - loss: 0.3703 - accuracy: 0.9333 - val_loss: 0.6190 - val_accuracy: 0.8182\n",
      "Epoch 27/60\n",
      "3/3 [==============================] - 5s 2s/step - loss: 0.3586 - accuracy: 0.9333 - val_loss: 0.6127 - val_accuracy: 0.8182\n",
      "Epoch 28/60\n",
      "3/3 [==============================] - 5s 2s/step - loss: 0.3445 - accuracy: 0.9333 - val_loss: 0.6069 - val_accuracy: 0.8182\n",
      "Epoch 29/60\n",
      "3/3 [==============================] - 5s 2s/step - loss: 0.3331 - accuracy: 0.9444 - val_loss: 0.6032 - val_accuracy: 0.8182\n",
      "Epoch 30/60\n",
      "3/3 [==============================] - 5s 2s/step - loss: 0.3268 - accuracy: 0.9444 - val_loss: 0.5982 - val_accuracy: 0.8182\n",
      "Epoch 31/60\n",
      "3/3 [==============================] - 5s 2s/step - loss: 0.3175 - accuracy: 0.9556 - val_loss: 0.5923 - val_accuracy: 0.8182\n",
      "Epoch 32/60\n",
      "3/3 [==============================] - 5s 2s/step - loss: 0.3095 - accuracy: 0.9556 - val_loss: 0.5899 - val_accuracy: 0.8182\n",
      "Epoch 33/60\n",
      "3/3 [==============================] - 5s 2s/step - loss: 0.3011 - accuracy: 0.9556 - val_loss: 0.5895 - val_accuracy: 0.8409\n",
      "Epoch 34/60\n",
      "3/3 [==============================] - 5s 2s/step - loss: 0.2956 - accuracy: 0.9556 - val_loss: 0.5887 - val_accuracy: 0.8409\n",
      "Epoch 35/60\n",
      "3/3 [==============================] - 5s 2s/step - loss: 0.2826 - accuracy: 0.9667 - val_loss: 0.5893 - val_accuracy: 0.8409\n",
      "Epoch 36/60\n",
      "3/3 [==============================] - 5s 2s/step - loss: 0.2789 - accuracy: 0.9667 - val_loss: 0.5894 - val_accuracy: 0.8409\n",
      "Epoch 37/60\n",
      "3/3 [==============================] - 5s 2s/step - loss: 0.2675 - accuracy: 0.9667 - val_loss: 0.5886 - val_accuracy: 0.8409\n",
      "Epoch 38/60\n",
      "3/3 [==============================] - 5s 2s/step - loss: 0.2648 - accuracy: 0.9667 - val_loss: 0.5854 - val_accuracy: 0.8409\n",
      "Epoch 39/60\n",
      "3/3 [==============================] - 5s 2s/step - loss: 0.2599 - accuracy: 0.9667 - val_loss: 0.5848 - val_accuracy: 0.8409\n",
      "Epoch 40/60\n",
      "3/3 [==============================] - 5s 2s/step - loss: 0.2481 - accuracy: 0.9667 - val_loss: 0.5834 - val_accuracy: 0.8409\n",
      "Epoch 41/60\n",
      "3/3 [==============================] - 5s 2s/step - loss: 0.2469 - accuracy: 0.9667 - val_loss: 0.5826 - val_accuracy: 0.8409\n",
      "Epoch 42/60\n",
      "3/3 [==============================] - 5s 2s/step - loss: 0.2421 - accuracy: 0.9778 - val_loss: 0.5826 - val_accuracy: 0.8409\n",
      "Epoch 43/60\n",
      "3/3 [==============================] - 5s 2s/step - loss: 0.2348 - accuracy: 0.9778 - val_loss: 0.5832 - val_accuracy: 0.8409\n",
      "Epoch 44/60\n",
      "3/3 [==============================] - 5s 2s/step - loss: 0.2303 - accuracy: 0.9778 - val_loss: 0.5818 - val_accuracy: 0.8409\n",
      "Epoch 45/60\n",
      "3/3 [==============================] - 5s 2s/step - loss: 0.2259 - accuracy: 0.9778 - val_loss: 0.5801 - val_accuracy: 0.8409\n",
      "Epoch 46/60\n",
      "3/3 [==============================] - 5s 2s/step - loss: 0.2225 - accuracy: 0.9778 - val_loss: 0.5814 - val_accuracy: 0.8409\n",
      "Epoch 47/60\n",
      "3/3 [==============================] - 5s 2s/step - loss: 0.2197 - accuracy: 0.9778 - val_loss: 0.5823 - val_accuracy: 0.8409\n",
      "Epoch 48/60\n",
      "3/3 [==============================] - 5s 2s/step - loss: 0.2118 - accuracy: 0.9778 - val_loss: 0.5835 - val_accuracy: 0.8409\n",
      "Epoch 49/60\n",
      "3/3 [==============================] - 5s 2s/step - loss: 0.2083 - accuracy: 0.9778 - val_loss: 0.5836 - val_accuracy: 0.8409\n",
      "Epoch 50/60\n",
      "3/3 [==============================] - 5s 2s/step - loss: 0.2076 - accuracy: 0.9778 - val_loss: 0.5843 - val_accuracy: 0.8409\n",
      "Epoch 51/60\n",
      "3/3 [==============================] - 5s 2s/step - loss: 0.2011 - accuracy: 0.9778 - val_loss: 0.5842 - val_accuracy: 0.8409\n",
      "Epoch 52/60\n",
      "3/3 [==============================] - 5s 2s/step - loss: 0.1971 - accuracy: 0.9778 - val_loss: 0.5848 - val_accuracy: 0.8409\n",
      "Epoch 53/60\n",
      "3/3 [==============================] - 5s 2s/step - loss: 0.1932 - accuracy: 0.9778 - val_loss: 0.5845 - val_accuracy: 0.8409\n",
      "Epoch 54/60\n",
      "3/3 [==============================] - 5s 2s/step - loss: 0.1896 - accuracy: 0.9889 - val_loss: 0.5827 - val_accuracy: 0.8409\n",
      "Epoch 55/60\n",
      "3/3 [==============================] - 5s 2s/step - loss: 0.1858 - accuracy: 0.9889 - val_loss: 0.5821 - val_accuracy: 0.8409\n"
     ]
    }
   ],
   "source": [
    "net = tf.keras.applications.EfficientNetB0(include_top = False)\n",
    "net.trainable = False\n",
    "\n",
    "model = tf.keras.Sequential([\n",
    "    tf.keras.layers.Rescaling(scale=255),\n",
    "    tf.keras.layers.TimeDistributed(net),\n",
    "    tf.keras.layers.Dense(10),\n",
    "    tf.keras.layers.GlobalAveragePooling3D()\n",
    "])\n",
    "\n",
    "model.compile(optimizer = tf.keras.optimizers.Adam(\n",
    "    learning_rate=0.001),\n",
    "              loss=tf.keras.losses.SparseCategoricalCrossentropy(from_logits = True),\n",
    "              metrics=['accuracy'])\n",
    "\n",
    "history = model.fit(train_ds, \n",
    "          epochs = 60,\n",
    "          validation_data = val_ds #)\n",
    "          ,callbacks = tf.keras.callbacks.EarlyStopping(patience = 10, monitor = 'val_loss'))"
   ]
  },
  {
   "cell_type": "code",
   "execution_count": 36,
   "metadata": {},
   "outputs": [
    {
     "name": "stdout",
     "output_type": "stream",
     "text": [
      "Model: \"sequential\"\n",
      "_________________________________________________________________\n",
      " Layer (type)                Output Shape              Param #   \n",
      "=================================================================\n",
      " rescaling_2 (Rescaling)     (None, None, None, None,  0         \n",
      "                              3)                                 \n",
      "                                                                 \n",
      " time_distributed (TimeDistr  (None, None, None, None,  4049571  \n",
      " ibuted)                      1280)                              \n",
      "                                                                 \n",
      " dense (Dense)               (None, None, None, None,  12810     \n",
      "                              10)                                \n",
      "                                                                 \n",
      " global_average_pooling3d (G  (None, 10)               0         \n",
      " lobalAveragePooling3D)                                          \n",
      "                                                                 \n",
      "=================================================================\n",
      "Total params: 4,062,381\n",
      "Trainable params: 12,810\n",
      "Non-trainable params: 4,049,571\n",
      "_________________________________________________________________\n"
     ]
    }
   ],
   "source": [
    "model.summary()"
   ]
  },
  {
   "cell_type": "code",
   "execution_count": 37,
   "metadata": {},
   "outputs": [
    {
     "data": {
      "image/png": "[encoded data removed]",
      "text/plain": [
       "<Figure size 640x480 with 1 Axes>"
      ]
     },
     "metadata": {},
     "output_type": "display_data"
    }
   ],
   "source": [
    "plt.plot(history.history['loss'], label='train', color='brown')\n",
    "plt.plot(history.history['val_loss'], label='test', color='blue')\n",
    "\n",
    "plt.legend()\n",
    "plt.show()"
   ]
  },
  {
   "cell_type": "code",
   "execution_count": 38,
   "metadata": {},
   "outputs": [
    {
     "data": {
      "image/png": "[encoded data removed]",
      "text/plain": [
       "<Figure size 640x480 with 1 Axes>"
      ]
     },
     "metadata": {},
     "output_type": "display_data"
    }
   ],
   "source": [
    "plt.plot(history.history['accuracy'], label='accuracy', color='yellow')\n",
    "plt.plot(history.history['val_accuracy'], label='val_accuracy', color='green')\n",
    "plt.legend()\n",
    "plt.show()"
   ]
  },
  {
   "cell_type": "code",
   "execution_count": 39,
   "metadata": {},
   "outputs": [
    {
     "data": {
      "text/plain": [
       "{'current': 18396672, 'peak': 8025382912}"
      ]
     },
     "execution_count": 39,
     "metadata": {},
     "output_type": "execute_result"
    }
   ],
   "source": [
    "tf.config.experimental.get_memory_info('GPU:0')"
   ]
  },
  {
   "cell_type": "code",
   "execution_count": null,
   "metadata": {},
   "outputs": [],
   "source": []
  },
  {
   "cell_type": "code",
   "execution_count": null,
   "metadata": {},
   "outputs": [],
   "source": []
  },
  {
   "cell_type": "code",
   "execution_count": null,
   "metadata": {},
   "outputs": [],
   "source": []
  },
  {
   "cell_type": "code",
   "execution_count": null,
   "metadata": {},
   "outputs": [],
   "source": []
  },
  {
   "cell_type": "code",
   "execution_count": null,
   "metadata": {},
   "outputs": [],
   "source": []
  }
 ],
 "metadata": {
  "accelerator": "GPU",
  "colab": {
   "name": "video.ipynb",
   "toc_visible": true
  },
  "kernelspec": {
   "display_name": "Python 3 (ipykernel)",
   "language": "python",
   "name": "python3"
  },
  "language_info": {
   "codemirror_mode": {
    "name": "ipython",
    "version": 3
   },
   "file_extension": ".py",
   "mimetype": "text/x-python",
   "name": "python",
   "nbconvert_exporter": "python",
   "pygments_lexer": "ipython3",
   "version": "3.9.13"
  }
 },
 "nbformat": 4,
 "nbformat_minor": 1
}
